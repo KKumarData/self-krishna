{
 "cells": [
  {
   "cell_type": "code",
   "execution_count": 7,
   "id": "2c1d66fe",
   "metadata": {},
   "outputs": [
    {
     "data": {
      "text/plain": [
       "9968"
      ]
     },
     "execution_count": 7,
     "metadata": {},
     "output_type": "execute_result"
    }
   ],
   "source": [
    "len('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')"
   ]
  },
  {
   "cell_type": "code",
   "execution_count": 34,
   "id": "9687a2a0",
   "metadata": {},
   "outputs": [
    {
     "data": {
      "text/plain": [
       "8.0"
      ]
     },
     "execution_count": 34,
     "metadata": {},
     "output_type": "execute_result"
    }
   ],
   "source": [
    "9968/1246"
   ]
  },
  {
   "cell_type": "code",
   "execution_count": 2,
   "id": "f71db2ae",
   "metadata": {},
   "outputs": [
    {
     "data": {
      "text/plain": [
       "False"
      ]
     },
     "execution_count": 2,
     "metadata": {},
     "output_type": "execute_result"
    }
   ],
   "source": [
    "#check for cyle single linked list\n",
    "\n",
    "class Node(object):\n",
    "    \n",
    "    def __init__(self,x):\n",
    "        self.data=x\n",
    "        self.next=None        \n",
    "i=10\n",
    "a = Node(i)\n",
    "b = Node(2*i)\n",
    "c = Node(3*i)\n",
    "a.next=b\n",
    "b.next=c\n",
    "\n",
    "\n",
    "def cycle_check(ip):\n",
    "    p1=ip\n",
    "    p2=ip  \n",
    "        \n",
    "    while p2 != None and p2.next!=None:\n",
    "        p1=p1.next\n",
    "        p2=p2.next.next\n",
    "        \n",
    "        if p1==p2:\n",
    "            return True        \n",
    "    return False\n",
    "\n",
    "cycle_check(a)"
   ]
  },
  {
   "cell_type": "code",
   "execution_count": 47,
   "id": "f354971a",
   "metadata": {},
   "outputs": [
    {
     "name": "stdout",
     "output_type": "stream",
     "text": [
      "10\n",
      "20\n",
      "30\n"
     ]
    }
   ],
   "source": [
    "print(a.data)\n",
    "print(b.data)\n",
    "print(c.data)"
   ]
  },
  {
   "cell_type": "code",
   "execution_count": 48,
   "id": "7c1aa7d5",
   "metadata": {},
   "outputs": [
    {
     "data": {
      "text/plain": [
       "True"
      ]
     },
     "execution_count": 48,
     "metadata": {},
     "output_type": "execute_result"
    }
   ],
   "source": [
    "c.next=a\n",
    "\n",
    "cycle_check(b)"
   ]
  },
  {
   "cell_type": "code",
   "execution_count": 32,
   "id": "53373268",
   "metadata": {},
   "outputs": [
    {
     "name": "stdout",
     "output_type": "stream",
     "text": [
      "20\n",
      "30\n",
      "40\n",
      "40\n"
     ]
    }
   ],
   "source": [
    "# reorder linked list\n",
    "\n",
    "class Node():\n",
    "    def __init__(self,x):\n",
    "        self.val=x\n",
    "        self.next =None        \n",
    "\n",
    "class Solution(Node):\n",
    "    \n",
    "    def reorderlist(self,head):\n",
    "        #find middle\n",
    "        slow,fast=head,head.next\n",
    "        while fast and fast.next:\n",
    "            slow=slow.next\n",
    "            fast=fast.next.next\n",
    "\n",
    "        #revrese second half    \n",
    "        second = slow.next\n",
    "        prev= slow.next =None    \n",
    "        while second:\n",
    "            tmp=second.next\n",
    "            second.next=prev\n",
    "            prev=second\n",
    "            second=tmp\n",
    "\n",
    "\n",
    "        #merge two halfs\n",
    "        first,second=head,prev\n",
    "        while second:\n",
    "            tmp1,tmp2 =first.next,second.next\n",
    "            first.next=second\n",
    "            second.next=tmp1\n",
    "            first,second =tmp1,tmp2\n",
    "        \n",
    "        \n",
    "i=10\n",
    "e = Solution(i)\n",
    "f = Solution(2*i)\n",
    "g = Solution(3*i)\n",
    "h = Solution(4*i)\n",
    "e.next=f\n",
    "f.next=g\n",
    "g.next=h\n",
    "\n",
    "print(e.next.val)\n",
    "print(f.next.val)\n",
    "print(g.next.val)\n",
    "print(h.val)"
   ]
  },
  {
   "cell_type": "code",
   "execution_count": 1,
   "id": "068bb68c",
   "metadata": {},
   "outputs": [
    {
     "ename": "NameError",
     "evalue": "name 'reorderlist' is not defined",
     "output_type": "error",
     "traceback": [
      "\u001b[1;31m---------------------------------------------------------------------------\u001b[0m",
      "\u001b[1;31mNameError\u001b[0m                                 Traceback (most recent call last)",
      "\u001b[1;32m<ipython-input-1-e4815f0ef077>\u001b[0m in \u001b[0;36m<module>\u001b[1;34m\u001b[0m\n\u001b[1;32m----> 1\u001b[1;33m \u001b[0mreorderlist\u001b[0m\u001b[1;33m(\u001b[0m\u001b[0me\u001b[0m\u001b[1;33m)\u001b[0m\u001b[1;33m\u001b[0m\u001b[1;33m\u001b[0m\u001b[0m\n\u001b[0m\u001b[0;32m      2\u001b[0m \u001b[1;33m\u001b[0m\u001b[0m\n\u001b[0;32m      3\u001b[0m \u001b[0mprint\u001b[0m\u001b[1;33m(\u001b[0m\u001b[0me\u001b[0m\u001b[1;33m.\u001b[0m\u001b[0mnext\u001b[0m\u001b[1;33m.\u001b[0m\u001b[0mval\u001b[0m\u001b[1;33m)\u001b[0m\u001b[1;33m\u001b[0m\u001b[1;33m\u001b[0m\u001b[0m\n\u001b[0;32m      4\u001b[0m \u001b[0mprint\u001b[0m\u001b[1;33m(\u001b[0m\u001b[0mf\u001b[0m\u001b[1;33m.\u001b[0m\u001b[0mnext\u001b[0m\u001b[1;33m.\u001b[0m\u001b[0mval\u001b[0m\u001b[1;33m)\u001b[0m\u001b[1;33m\u001b[0m\u001b[1;33m\u001b[0m\u001b[0m\n\u001b[0;32m      5\u001b[0m \u001b[0mprint\u001b[0m\u001b[1;33m(\u001b[0m\u001b[0mg\u001b[0m\u001b[1;33m.\u001b[0m\u001b[0mnext\u001b[0m\u001b[1;33m.\u001b[0m\u001b[0mval\u001b[0m\u001b[1;33m)\u001b[0m\u001b[1;33m\u001b[0m\u001b[1;33m\u001b[0m\u001b[0m\n",
      "\u001b[1;31mNameError\u001b[0m: name 'reorderlist' is not defined"
     ]
    }
   ],
   "source": [
    "\n",
    "reorderlist(e)\n",
    "\n",
    "print(e.next.val)\n",
    "print(f.next.val)\n",
    "print(g.next.val)\n",
    "print(h.val)"
   ]
  },
  {
   "cell_type": "code",
   "execution_count": 75,
   "id": "70ac5040",
   "metadata": {},
   "outputs": [],
   "source": [
    "class Node():\n",
    "    def __init__(self,x=None):\n",
    "        self.val=x\n",
    "        self.next =None \n",
    "\n",
    "class LinkedList:\n",
    "    def __init__(self):\n",
    "        self.head=Node()\n",
    "        \n",
    "    def length(self,head):        \n",
    "        cnt=0\n",
    "        cur=self.head\n",
    "        while cur.next:\n",
    "            cur=cur.next\n",
    "            cnt+=1        \n",
    "        return cnt    \n",
    "    \n",
    "    def append(self,data):\n",
    "        cur=self.head\n",
    "        newnode=Node(data)\n",
    "        while cur.next:\n",
    "            cur=cur.next\n",
    "            \n",
    "        cur.next=newnode   \n",
    "    \n",
    "    def display(self):\n",
    "        cur=self.head\n",
    "        ll_arr=[]\n",
    "        while cur.next:\n",
    "            cur=cur.next\n",
    "            ll_arr.append(cur.val)\n",
    "            \n",
    "        print(ll_arr)\n",
    "     \n",
    "    def get(self,index):\n",
    "        cur=self.head\n",
    "        if index>=self.length(cur) or index<0:\n",
    "            raise Exception('Index range out of length')\n",
    "        \n",
    "        cur_idx=0\n",
    "        while True:\n",
    "            cur=cur.next\n",
    "            if cur_idx==index:\n",
    "                return cur.val\n",
    "            cur_idx+=1\n",
    "        \n",
    "            "
   ]
  },
  {
   "cell_type": "code",
   "execution_count": 76,
   "id": "45aa4c0e",
   "metadata": {},
   "outputs": [
    {
     "data": {
      "text/plain": [
       "100"
      ]
     },
     "execution_count": 76,
     "metadata": {},
     "output_type": "execute_result"
    }
   ],
   "source": [
    "ll=LinkedList()\n",
    "for i in range(100):\n",
    "    ll.append(i)\n",
    "\n",
    "ll.length(ll.head)"
   ]
  },
  {
   "cell_type": "code",
   "execution_count": 77,
   "id": "521747e5",
   "metadata": {},
   "outputs": [
    {
     "name": "stdout",
     "output_type": "stream",
     "text": [
      "[0, 1, 2, 3, 4, 5, 6, 7, 8, 9, 10, 11, 12, 13, 14, 15, 16, 17, 18, 19, 20, 21, 22, 23, 24, 25, 26, 27, 28, 29, 30, 31, 32, 33, 34, 35, 36, 37, 38, 39, 40, 41, 42, 43, 44, 45, 46, 47, 48, 49, 50, 51, 52, 53, 54, 55, 56, 57, 58, 59, 60, 61, 62, 63, 64, 65, 66, 67, 68, 69, 70, 71, 72, 73, 74, 75, 76, 77, 78, 79, 80, 81, 82, 83, 84, 85, 86, 87, 88, 89, 90, 91, 92, 93, 94, 95, 96, 97, 98, 99]\n"
     ]
    }
   ],
   "source": [
    "ll.display()"
   ]
  },
  {
   "cell_type": "code",
   "execution_count": 78,
   "id": "5a2174ac",
   "metadata": {},
   "outputs": [
    {
     "name": "stdout",
     "output_type": "stream",
     "text": [
      "1\n"
     ]
    }
   ],
   "source": [
    "print(ll.head.next.next.val)"
   ]
  },
  {
   "cell_type": "code",
   "execution_count": 79,
   "id": "66be6281",
   "metadata": {},
   "outputs": [
    {
     "name": "stdout",
     "output_type": "stream",
     "text": [
      "10\n"
     ]
    }
   ],
   "source": [
    "print(ll.get(10))"
   ]
  },
  {
   "cell_type": "code",
   "execution_count": 95,
   "id": "f041873e",
   "metadata": {},
   "outputs": [],
   "source": [
    "# Nth item from the last in likedlist\n",
    "\n",
    "class Node():\n",
    "    def __init__(self,x=None):\n",
    "        self.val=x\n",
    "        self.next=None \n",
    "        \n",
    "class Solution(LinkedList):\n",
    "    def __init__(self):\n",
    "        super().__init__()\n",
    "    \n",
    "    def nth_items_from_last(self,n):\n",
    "        lp=self.head\n",
    "        rp=self.head\n",
    "        \n",
    "        if n>=self.length(self.head) or n<0:\n",
    "            raise Exception(' n is greater than linkedlist')\n",
    "            \n",
    "        \n",
    "        for i in range(n-1):            \n",
    "            rp=rp.next\n",
    "            \n",
    "        while rp.next:\n",
    "            lp=lp.next\n",
    "            rp=rp.next\n",
    "            \n",
    "        print(lp.val)   \n",
    "            \n"
   ]
  },
  {
   "cell_type": "code",
   "execution_count": 1,
   "id": "65a70d48",
   "metadata": {},
   "outputs": [
    {
     "ename": "NameError",
     "evalue": "name 'Solution' is not defined",
     "output_type": "error",
     "traceback": [
      "\u001b[1;31m---------------------------------------------------------------------------\u001b[0m",
      "\u001b[1;31mNameError\u001b[0m                                 Traceback (most recent call last)",
      "\u001b[1;32m<ipython-input-1-4d4fd0701930>\u001b[0m in \u001b[0;36m<module>\u001b[1;34m\u001b[0m\n\u001b[1;32m----> 1\u001b[1;33m \u001b[0mll\u001b[0m\u001b[1;33m=\u001b[0m\u001b[0mSolution\u001b[0m\u001b[1;33m(\u001b[0m\u001b[1;33m)\u001b[0m\u001b[1;33m\u001b[0m\u001b[1;33m\u001b[0m\u001b[0m\n\u001b[0m\u001b[0;32m      2\u001b[0m \u001b[1;32mfor\u001b[0m \u001b[0mi\u001b[0m \u001b[1;32min\u001b[0m \u001b[0mrange\u001b[0m \u001b[1;33m(\u001b[0m\u001b[1;36m100\u001b[0m\u001b[1;33m)\u001b[0m\u001b[1;33m:\u001b[0m\u001b[1;33m\u001b[0m\u001b[1;33m\u001b[0m\u001b[0m\n\u001b[0;32m      3\u001b[0m     \u001b[0mll\u001b[0m\u001b[1;33m.\u001b[0m\u001b[0mappend\u001b[0m\u001b[1;33m(\u001b[0m\u001b[0mi\u001b[0m\u001b[1;33m)\u001b[0m\u001b[1;33m\u001b[0m\u001b[1;33m\u001b[0m\u001b[0m\n\u001b[0;32m      4\u001b[0m \u001b[1;33m\u001b[0m\u001b[0m\n\u001b[0;32m      5\u001b[0m \u001b[0mprint\u001b[0m\u001b[1;33m(\u001b[0m\u001b[0mll\u001b[0m\u001b[1;33m.\u001b[0m\u001b[0mlength\u001b[0m\u001b[1;33m(\u001b[0m\u001b[0mll\u001b[0m\u001b[1;33m.\u001b[0m\u001b[0mhead\u001b[0m\u001b[1;33m)\u001b[0m\u001b[1;33m)\u001b[0m\u001b[1;33m\u001b[0m\u001b[1;33m\u001b[0m\u001b[0m\n",
      "\u001b[1;31mNameError\u001b[0m: name 'Solution' is not defined"
     ]
    }
   ],
   "source": [
    "            \n",
    "ll=Solution()\n",
    "for i in range (100):\n",
    "    ll.append(i)\n",
    "    \n",
    "print(ll.length(ll.head))\n",
    "ll.nth_items_from_last(11)"
   ]
  },
  {
   "cell_type": "code",
   "execution_count": 1,
   "id": "916ce25f",
   "metadata": {},
   "outputs": [
    {
     "name": "stdout",
     "output_type": "stream",
     "text": [
      "eeeefggkkors\n"
     ]
    }
   ],
   "source": [
    "\n",
    "#Function to arrange all letters of a string in lexicographical \n",
    "#order using Counting Sort.\n",
    "def countSort(arr):\n",
    "    n = len(arr)\n",
    "    #Storing frequency of all characters present in the given string.\n",
    "    freq=[0 for i in range(256)] \n",
    "\n",
    "    #Increasing the count of character frequency encountered.\n",
    "    for char in arr:\n",
    "#         print(ord(char))\n",
    "        freq[ord(char)]+=1\n",
    "\n",
    "#     print(freq)\n",
    "    arr = \"\"\n",
    "    #Now, iterating the frequency table and storing the ith \n",
    "    #character , f[i] times.\n",
    "    for i in range(256):\n",
    "        for j in range(freq[i]):\n",
    "            arr += chr(i)\n",
    "    \n",
    "    print(arr)\n",
    "    #returning the sorted string. \n",
    "    \n",
    "\n",
    "countSort(\"geekforgeeks\")"
   ]
  },
  {
   "cell_type": "code",
   "execution_count": 54,
   "id": "8db6451d",
   "metadata": {},
   "outputs": [],
   "source": [
    "#Back-end complete function Template for Python 3\n",
    "\n",
    "class Solution:\n",
    "    # Function to find next gap\n",
    "    def nextGap( self,gap): \n",
    "        if (gap <= 1): \n",
    "            return 0\n",
    "        return (gap // 2) + (gap % 2) \n",
    "\n",
    "\n",
    "    def merge(self, arr1, arr2, n, m): \n",
    "        gap = n + m \n",
    "        gap = self.nextGap(gap) \n",
    "        while gap > 0 : \n",
    "        \n",
    "            # comparing elements in \n",
    "            # the first array. \n",
    "            i = 0\n",
    "            while i + gap < n : \n",
    "                if (arr1[i] > arr1[i + gap]): \n",
    "                    arr1[i], arr1[i + gap] = arr1[i + gap], arr1[i] \n",
    "                    \n",
    "                i += 1\n",
    "\n",
    "            #comparing elements in both arrays. \n",
    "            j = gap - n if gap > n else 0\n",
    "            while i < n and j < m: \n",
    "                if (arr1[i] > arr2[j]): \n",
    "                    arr1[i], arr2[j] = arr2[j], arr1[i] \n",
    "                    \n",
    "                i += 1\n",
    "                j += 1\n",
    "\n",
    "            if (j < m): \n",
    "                \n",
    "                # comparing elements in the \n",
    "                # second array. \n",
    "                j = 0\n",
    "                while j + gap < m : \n",
    "                    if (arr2[j] > arr2[j + gap]): \n",
    "                        arr2[j], arr2[j + gap] = arr2[j + gap], arr2[j] \n",
    "                        \n",
    "                    j += 1\n",
    "                    \n",
    "            gap = self.nextGap(gap)"
   ]
  },
  {
   "cell_type": "code",
   "execution_count": 2,
   "id": "97b2dd55",
   "metadata": {},
   "outputs": [
    {
     "name": "stdout",
     "output_type": "stream",
     "text": [
      "1\n",
      "55\n",
      "9\n",
      "4\n",
      "8\n"
     ]
    },
    {
     "data": {
      "text/plain": [
       "True"
      ]
     },
     "execution_count": 2,
     "metadata": {},
     "output_type": "execute_result"
    }
   ],
   "source": [
    "#Function to search a given number in row-column sorted matrix.\n",
    "def search(matrix, n, m, x): \n",
    "#     i, j = 0, 0                 \n",
    "    for i in range(n):\n",
    "        for j in range(m):\n",
    "            print(matrix[i][j])\n",
    "            #if given number is found, we return true.\n",
    "            if (matrix[i][j] == x): \n",
    "                return True\n",
    "            else:\n",
    "                i += 1        \n",
    "                j += 1\n",
    "    #if we reach here, it means given number is not\n",
    "    #present in matrix so we return false.\n",
    "    return False\n",
    "    \n",
    "    \n",
    "search ([[1,2,3],[4,55,6],[77,8,9]],3,3,8)    "
   ]
  },
  {
   "cell_type": "code",
   "execution_count": 21,
   "id": "84610396",
   "metadata": {},
   "outputs": [
    {
     "name": "stdout",
     "output_type": "stream",
     "text": [
      "defaultdict(<class 'int'>, {103: 2, 101: 4, 107: 2, 102: 1, 111: 1, 114: 1, 115: 1})\n",
      "101\n",
      "102\n",
      "103\n",
      "107\n",
      "111\n",
      "114\n",
      "115\n",
      "eeeefggkkors\n"
     ]
    }
   ],
   "source": [
    "\n",
    "\n",
    "from collections import defaultdict\n",
    "def countSort(arr):\n",
    "    n = len(arr)\n",
    "    freq=defaultdict(int)\n",
    "\n",
    "\n",
    "    for char in arr:\n",
    "        freq[ord(char)]+=1\n",
    "    print(freq)\n",
    "#     print(freq)\n",
    "    arr = \"\"\n",
    "\n",
    "    ordered_keys=sorted(freq.keys())\n",
    "    for k in ordered_keys:\n",
    "        print(k)\n",
    "        \n",
    "        arr += freq[k]*chr(k)\n",
    "    \n",
    "    print(arr)\n",
    "    \n",
    "\n",
    "countSort(\"geekforgeeks\")\n",
    "# Alternate way ----->    \"\".join(sorted(\"\".join(['geekforgeeks'])))\n"
   ]
  },
  {
   "cell_type": "code",
   "execution_count": 28,
   "id": "60d12430",
   "metadata": {},
   "outputs": [
    {
     "data": {
      "text/plain": [
       "'eeeefggkkors'"
      ]
     },
     "execution_count": 28,
     "metadata": {},
     "output_type": "execute_result"
    }
   ],
   "source": [
    "\"\".join(sorted(\"\".join(['geekforgeeks'])))\n"
   ]
  },
  {
   "cell_type": "code",
   "execution_count": 52,
   "id": "17e039a3",
   "metadata": {},
   "outputs": [],
   "source": [
    "# Definition for singly-linked list.\n",
    "class ListNode:\n",
    "    def __init__(self, x=None):\n",
    "        self.val = x\n",
    "        self.next = None\n",
    "\n",
    "def removeLoop(head: ListNode) -> bool:\n",
    "    # Initialize ptr1 and ptr2 to head node.\n",
    "    ptr1 = head\n",
    "    ptr2 = head\n",
    "    # Boolean to check if a loop exists in the given Linked List.\n",
    "    flag = False\n",
    "    # Traverse the Linked List.\n",
    "    while ptr2 != None and ptr2.next != None:\n",
    "        # Move ptr1 forward by one node.\n",
    "        ptr1 = ptr1.next\n",
    "        # Move ptr2 forward by two nodes.\n",
    "        ptr2 = ptr2.next.next\n",
    "        # Check if ptr1 and ptr2 meet at some node, then there is a loop in the Linked List and So make flag true and break.\n",
    "        if ptr1 == ptr2:\n",
    "            flag = True\n",
    "            break\n",
    "    # When there is a loop in the Linked List.\n",
    "    if flag:\n",
    "        # Assign head to ptr1.\n",
    "        ptr1 = head\n",
    "        # Loop until next of ptr1 and ptr2 are not equal.\n",
    "        while ptr1.next != ptr2.next:\n",
    "            ptr1 = ptr1.next\n",
    "            ptr2 = ptr2.next\n",
    "        # Make next of ptr2 i.e last node of Linked List None.\n",
    "        ptr2.next = None\n",
    "    return head\n",
    "\n",
    "\n",
    "head = l0= ListNode(2)\n",
    "head.next = l1 = ListNode(8)\n",
    "l1.next = l2 = ListNode(3)\n",
    "l2.next = l3 = ListNode(5)\n",
    "l3.next = l4 = ListNode(10)\n",
    "l4.next = l2\n",
    "# 2->8->3->5->10--\n",
    "#       ^       |\n",
    "#       |       |\n",
    "#       ---------\n"
   ]
  },
  {
   "cell_type": "code",
   "execution_count": 53,
   "id": "845ace66",
   "metadata": {},
   "outputs": [
    {
     "name": "stdout",
     "output_type": "stream",
     "text": [
      "2->8->3->5->10->NULL\n"
     ]
    }
   ],
   "source": [
    "removeLoop(head)\n",
    "\n",
    "while head != None:\n",
    "    print(f'{head.val}->',end=\"\")\n",
    "    head = head.next;\n",
    "print(\"NULL\")\n"
   ]
  },
  {
   "cell_type": "code",
   "execution_count": 48,
   "id": "54f7c817",
   "metadata": {},
   "outputs": [
    {
     "data": {
      "text/plain": [
       "<__main__.ListNode at 0x12433c3b280>"
      ]
     },
     "execution_count": 48,
     "metadata": {},
     "output_type": "execute_result"
    }
   ],
   "source": []
  },
  {
   "cell_type": "code",
   "execution_count": null,
   "id": "01dbfca5",
   "metadata": {},
   "outputs": [],
   "source": [
    "\n"
   ]
  }
 ],
 "metadata": {
  "kernelspec": {
   "display_name": "Python 3",
   "language": "python",
   "name": "python3"
  },
  "language_info": {
   "codemirror_mode": {
    "name": "ipython",
    "version": 3
   },
   "file_extension": ".py",
   "mimetype": "text/x-python",
   "name": "python",
   "nbconvert_exporter": "python",
   "pygments_lexer": "ipython3",
   "version": "3.8.8"
  }
 },
 "nbformat": 4,
 "nbformat_minor": 5
}
