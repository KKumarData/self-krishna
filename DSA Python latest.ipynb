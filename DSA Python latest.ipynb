{
 "cells": [
  {
   "cell_type": "code",
   "execution_count": 1,
   "id": "ae5d2664",
   "metadata": {},
   "outputs": [],
   "source": [
    "import ctypes\n",
    "class DynamicArray(object):\n",
    "    \n",
    "    def __init__(self):        \n",
    "        self.n=0\n",
    "        self.capacity=1\n",
    "        self.A=self.make_array(self.capacity)\n",
    "        \n",
    "    def __len__(self):\n",
    "        return self.n\n",
    "    \n",
    "    def __getitem__(self,k):        \n",
    "        if not  0<=k<=self.n:\n",
    "            raise IndexError(\"Out of bounds\")\n",
    "        \n",
    "        return self.A[k]    \n",
    "    \n",
    "    def append(self,element):\n",
    "        if self.n==self.capacity:\n",
    "            self._resize(2*self.capacity)\n",
    "            \n",
    "        self.A[self.n]=element\n",
    "        self.n += 1\n",
    "        \n",
    "    def _resize(self,new_size):\n",
    "        B=self.make_array(self.capacity)\n",
    "        for i in range(self.n):\n",
    "            B[i]=self.A[i]\n",
    "            \n",
    "        self.capcacity=new_size\n",
    "        self.A=B\n",
    "        \n",
    "    def make_array(self,new_cap):\n",
    "        return (new_cap * ctypes.py_object)()\n",
    "    "
   ]
  },
  {
   "cell_type": "code",
   "execution_count": 2,
   "id": "c19ba7d6",
   "metadata": {},
   "outputs": [],
   "source": [
    "arr=DynamicArray()"
   ]
  },
  {
   "cell_type": "code",
   "execution_count": 3,
   "id": "944c2040",
   "metadata": {},
   "outputs": [],
   "source": [
    "arr.append([1,2,3,4])"
   ]
  },
  {
   "cell_type": "code",
   "execution_count": 4,
   "id": "73bea087",
   "metadata": {},
   "outputs": [
    {
     "data": {
      "text/plain": [
       "1"
      ]
     },
     "execution_count": 4,
     "metadata": {},
     "output_type": "execute_result"
    }
   ],
   "source": [
    "len(arr)"
   ]
  },
  {
   "cell_type": "code",
   "execution_count": 5,
   "id": "ee5df92b",
   "metadata": {},
   "outputs": [
    {
     "data": {
      "text/plain": [
       "120"
      ]
     },
     "execution_count": 5,
     "metadata": {},
     "output_type": "execute_result"
    }
   ],
   "source": [
    "import sys\n",
    "b_arr=[x for x in range(6)]\n",
    "sys.getsizeof(b_arr)\n",
    "# b_arr"
   ]
  },
  {
   "cell_type": "markdown",
   "id": "d13f4a2f",
   "metadata": {},
   "source": [
    "### To reverse string\n"
   ]
  },
  {
   "cell_type": "code",
   "execution_count": 6,
   "id": "73e5b0a5",
   "metadata": {},
   "outputs": [],
   "source": [
    "def revers(a):\n",
    "    b=\"\"\n",
    "    for i in range(len(a)): \n",
    "        j=len(a)-1-i\n",
    "        b=str(b)+str(a[j])\n",
    "    \n",
    "    return b   "
   ]
  },
  {
   "cell_type": "code",
   "execution_count": 7,
   "id": "3d1bab59",
   "metadata": {},
   "outputs": [
    {
     "data": {
      "text/plain": [
       "'kayak is si kayak'"
      ]
     },
     "execution_count": 7,
     "metadata": {},
     "output_type": "execute_result"
    }
   ],
   "source": [
    "revers(\"kayak is si kayak\")"
   ]
  },
  {
   "cell_type": "markdown",
   "id": "3c9711a7",
   "metadata": {},
   "source": [
    "## To check Palindrome"
   ]
  },
  {
   "cell_type": "code",
   "execution_count": 8,
   "id": "c27ca2cf",
   "metadata": {},
   "outputs": [],
   "source": [
    "def palindrome(a):\n",
    "    if revers(a)==a:\n",
    "        return True\n",
    "    else: \n",
    "        return False\n",
    "    "
   ]
  },
  {
   "cell_type": "code",
   "execution_count": 9,
   "id": "b1e5a02d",
   "metadata": {},
   "outputs": [
    {
     "data": {
      "text/plain": [
       "True"
      ]
     },
     "execution_count": 9,
     "metadata": {},
     "output_type": "execute_result"
    }
   ],
   "source": [
    "palindrome(\"kayak\")"
   ]
  },
  {
   "cell_type": "code",
   "execution_count": 10,
   "id": "426e07f7",
   "metadata": {},
   "outputs": [
    {
     "data": {
      "text/plain": [
       "False"
      ]
     },
     "execution_count": 10,
     "metadata": {},
     "output_type": "execute_result"
    }
   ],
   "source": [
    "palindrome(\"String\")"
   ]
  },
  {
   "cell_type": "markdown",
   "id": "5f56e1b2",
   "metadata": {},
   "source": [
    "## Anagram"
   ]
  },
  {
   "cell_type": "code",
   "execution_count": 11,
   "id": "bb9e85ff",
   "metadata": {},
   "outputs": [],
   "source": [
    "def anagram(a,b):\n",
    "    a=\"\".join(a.split()).lower()\n",
    "    b=\"\".join(b.split()).lower()\n",
    "    return (len(a) ==len(b)  and sorted(a)==sorted(b))        "
   ]
  },
  {
   "cell_type": "code",
   "execution_count": 12,
   "id": "6863ef12",
   "metadata": {},
   "outputs": [
    {
     "data": {
      "text/plain": [
       "['a', 'b', 'c', 'd', 'f', 's', 's']"
      ]
     },
     "execution_count": 12,
     "metadata": {},
     "output_type": "execute_result"
    }
   ],
   "source": [
    "\"\".join(\"a b c \".split())\n",
    "\n",
    "\"a b c \".split()\n",
    "\n",
    "sorted(\"abcsdfs\")"
   ]
  },
  {
   "cell_type": "code",
   "execution_count": 13,
   "id": "8ba748dc",
   "metadata": {},
   "outputs": [
    {
     "data": {
      "text/plain": [
       "True"
      ]
     },
     "execution_count": 13,
     "metadata": {},
     "output_type": "execute_result"
    }
   ],
   "source": [
    "anagram(\"public relations\",\"CRAP built on lies\") "
   ]
  },
  {
   "cell_type": "markdown",
   "id": "a80cc3b2",
   "metadata": {},
   "source": [
    "## Array Pair Sum i.e func([1,2,2,3],4) ==> (2,2) and (1,3)"
   ]
  },
  {
   "cell_type": "code",
   "execution_count": 14,
   "id": "d294e8a4",
   "metadata": {},
   "outputs": [],
   "source": [
    "# array_pair_sum([1,2,3,1,2,4,5,6],4)"
   ]
  },
  {
   "cell_type": "code",
   "execution_count": 15,
   "id": "99799c62",
   "metadata": {},
   "outputs": [
    {
     "name": "stdout",
     "output_type": "stream",
     "text": [
      "set()\n",
      "{1}\n",
      "{1, 2}\n",
      "{1, 2, 3}\n",
      "1 5\n",
      "{1, 2, 3}\n",
      "{1, 2, 3, 6}\n",
      "{1, 2, 3, 6, 7}\n",
      "3 3\n",
      "{1, 2, 3, 6, 7}\n"
     ]
    },
    {
     "data": {
      "text/plain": [
       "2"
      ]
     },
     "execution_count": 15,
     "metadata": {},
     "output_type": "execute_result"
    }
   ],
   "source": [
    "def array_pair(a,b):\n",
    "    if len(a)<2:\n",
    "        return \n",
    "        \n",
    "    seen=set()\n",
    "    out=set()\n",
    "    for i in a:\n",
    "        target = b-i\n",
    "        print(seen)\n",
    "        if target not in seen:\n",
    "            seen.add(i)            \n",
    "        else:       \n",
    "            print(min(target,i),max(target,i))\n",
    "            out.add((min(target,i),max(target,i)))           \n",
    "    \n",
    "    print(seen)\n",
    "    return len(out)\n",
    "    \n",
    "        \n",
    "array_pair([1,2,3,5,6,7,3],6)\n",
    "    "
   ]
  },
  {
   "cell_type": "code",
   "execution_count": 16,
   "id": "93f74815",
   "metadata": {},
   "outputs": [
    {
     "name": "stdout",
     "output_type": "stream",
     "text": [
      "set()\n",
      "{1}\n",
      "{1, 2}\n",
      "{1, 2}\n",
      "2 3\n",
      "{1, 2}\n"
     ]
    },
    {
     "data": {
      "text/plain": [
       "1"
      ]
     },
     "execution_count": 16,
     "metadata": {},
     "output_type": "execute_result"
    }
   ],
   "source": [
    "array_pair([1,2,2,3],5)"
   ]
  },
  {
   "cell_type": "markdown",
   "id": "6dd368ab",
   "metadata": {},
   "source": [
    "## Stack"
   ]
  },
  {
   "cell_type": "code",
   "execution_count": 17,
   "id": "72fcbfbc",
   "metadata": {},
   "outputs": [
    {
     "name": "stdout",
     "output_type": "stream",
     "text": [
      "[0]\n",
      "[0, 1]\n",
      "[0, 1, 2]\n",
      "[0, 1, 2, 3]\n",
      "[0, 1, 2, 3, 4]\n",
      "[0, 1, 2, 3, 4, 5]\n",
      "[0, 1, 2, 3, 4, 5, 6]\n",
      "[0, 1, 2, 3, 4, 5, 6, 7]\n",
      "[0, 1, 2, 3, 4, 5, 6, 7, 8]\n",
      "[0, 1, 2, 3, 4, 5, 6, 7, 8, 9]\n",
      "[0, 1, 2, 3, 4, 5, 6, 7, 8, 9, 10]\n",
      "[0, 1, 2, 3, 4, 5, 6, 7, 8, 9, 10]\n",
      "[0, 1, 2, 3, 4, 5, 6, 7, 8, 9]\n",
      "[0, 1, 2, 3, 4, 5, 6, 7, 8]\n",
      "[0, 1, 2, 3, 4, 5, 6, 7]\n",
      "[0, 1, 2, 3, 4, 5, 6]\n",
      "[0, 1, 2, 3, 4, 5]\n",
      "[0, 1, 2, 3, 4]\n",
      "[0, 1, 2, 3]\n",
      "[0, 1, 2]\n",
      "[0, 1]\n",
      "[0]\n",
      "[]\n",
      "No items in stack\n"
     ]
    }
   ],
   "source": [
    "class Stack:\n",
    "    def __init__(self):\n",
    "        self.items=[]\n",
    "        \n",
    "    def get_size(self):\n",
    "        return len(self.items)\n",
    "    \n",
    "    def is_empty(self):\n",
    "        return not self.items\n",
    "    \n",
    "    def push(self,item):\n",
    "        self.items.append(item)\n",
    "    \n",
    "    def pop(self):\n",
    "        if self.items:\n",
    "            return self.items.pop()\n",
    "        else:\n",
    "            print(\"No items in stack\")\n",
    "            \n",
    "    def peek(self):\n",
    "         if self.items:\n",
    "            return self.items[-1]\n",
    "    \n",
    "    def __str__(self):\n",
    "        return str(self.items)\n",
    "        \n",
    "        \n",
    "if __name__==\"__main__\":\n",
    "    \n",
    "    s=Stack()\n",
    "    for i in range(11):\n",
    "        s.push(i)\n",
    "        print(s)\n",
    "\n",
    "    for i in range(12):\n",
    "        print(s)\n",
    "        s.pop()\n",
    "            "
   ]
  },
  {
   "cell_type": "markdown",
   "id": "3e88a397",
   "metadata": {},
   "source": [
    "## Reverse the string using stack"
   ]
  },
  {
   "cell_type": "code",
   "execution_count": 18,
   "id": "43fec347",
   "metadata": {},
   "outputs": [
    {
     "name": "stdout",
     "output_type": "stream",
     "text": [
      "['e', 'c', 'n', 'e', 't', 'n', 'e', 's', ' ', 's', 'i', 'h', 't', ' ', 'e', 'r', 'e', 'v', 'e', 'r', ' ', 'o', 't', ' ', 'g', 'n', 'i', 'o', 'g', ' ', 'e', 'r', 'a', ' ', 'e', 'W']\n",
      "We are going to revere this sentence\n"
     ]
    }
   ],
   "source": [
    "string=\"ecnetnes siht erever ot gniog era eW\"\n",
    "reversed_string=\"\"\n",
    "\n",
    "var=Stack()\n",
    "\n",
    "for i in string:\n",
    "    var.push(i)\n",
    "\n",
    "print(var.items)\n",
    "\n",
    "while not var.is_empty():    \n",
    "    reversed_string+=var.pop()\n",
    "    \n",
    "print(reversed_string)    \n"
   ]
  },
  {
   "cell_type": "code",
   "execution_count": 19,
   "id": "3758d9c1",
   "metadata": {},
   "outputs": [
    {
     "data": {
      "text/plain": [
       "['0-0', '0-1', '0-2', '1-0', '1-1', '1-2']"
      ]
     },
     "execution_count": 19,
     "metadata": {},
     "output_type": "execute_result"
    }
   ],
   "source": [
    "[ str(i)+'-'+str(j) for i in range(2) for j in range(3)]"
   ]
  },
  {
   "cell_type": "markdown",
   "id": "d688edb4",
   "metadata": {},
   "source": [
    "# First Non Repeating Character"
   ]
  },
  {
   "cell_type": "code",
   "execution_count": 20,
   "id": "7650daa4",
   "metadata": {},
   "outputs": [
    {
     "name": "stdout",
     "output_type": "stream",
     "text": [
      "f\n"
     ]
    }
   ],
   "source": [
    "def first_non_repeat(str1):\n",
    "    ch_pos=[]\n",
    "    ch_cnt={}\n",
    "    \n",
    "    for i in str1:\n",
    "        if i in ch_cnt:\n",
    "            ch_cnt[i]+=1\n",
    "        else:\n",
    "            ch_cnt[i]=1\n",
    "            ch_pos.append(i)\n",
    "     \n",
    "    for i in ch_pos:\n",
    "        if ch_cnt[i]==1:\n",
    "            return(i)\n",
    "        \n",
    "    return None\n",
    "    \n",
    "print(first_non_repeat('geekforgeek'))\n",
    "\n"
   ]
  },
  {
   "cell_type": "code",
   "execution_count": 21,
   "id": "182a35b3",
   "metadata": {},
   "outputs": [
    {
     "name": "stdout",
     "output_type": "stream",
     "text": [
      "-9 ->incorrect value\n",
      "a ->Provide only numbers\n",
      "34\n",
      "Wall time: 854 µs\n"
     ]
    }
   ],
   "source": [
    "%%time\n",
    "def fib(n):\n",
    "    if isinstance(n,int):\n",
    "        if n==0 or n==1:\n",
    "            return n\n",
    "        elif n<0:\n",
    "            return(str(n)+\" ->incorrect value\")\n",
    "        else:\n",
    "            return fib(n-2)+fib(n-1)\n",
    "    else:\n",
    "        return(str(n)+\" ->Provide only numbers\")\n",
    "        \n",
    "a=fib(-9)    \n",
    "print(a)\n",
    "print(fib('a'))\n",
    "print(fib(9))"
   ]
  },
  {
   "cell_type": "code",
   "execution_count": 22,
   "id": "d14b3fd8",
   "metadata": {},
   "outputs": [
    {
     "name": "stdout",
     "output_type": "stream",
     "text": [
      "90 10 49 1 5 2 23 "
     ]
    }
   ],
   "source": [
    "# Python function to sort the array arr[0..n-1] in wave form,\n",
    "# i.e., arr[0] >= arr[1] <= arr[2] >= arr[3] <= arr[4] >= arr[5]\n",
    "def sortInWave(arr, n):\n",
    "     \n",
    "    # Traverse all even elements\n",
    "    for i in range(0, n, 2):\n",
    "         \n",
    "        # If current even element is smaller than previous\n",
    "        if (i> 0 and arr[i] < arr[i-1]):\n",
    "            arr[i],arr[i-1] = arr[i-1],arr[i]\n",
    "         \n",
    "        # If current even element is smaller than next\n",
    "        if (i < n-1 and arr[i] < arr[i+1]):\n",
    "            arr[i],arr[i+1] = arr[i+1],arr[i]\n",
    " \n",
    "# Driver program\n",
    "arr = [10, 90, 49, 2, 1, 5, 23]\n",
    "sortInWave(arr, len(arr))\n",
    "for i in range(0,len(arr)):\n",
    "    print (arr[i], end=\" \")"
   ]
  },
  {
   "cell_type": "code",
   "execution_count": 23,
   "id": "83d0f29f",
   "metadata": {},
   "outputs": [
    {
     "name": "stdout",
     "output_type": "stream",
     "text": [
      "34\n",
      "Wall time: 293 µs\n"
     ]
    }
   ],
   "source": [
    "%%time\n",
    "def fib2(n):\n",
    "    f=[0,1]\n",
    "    if n==0 or n==1:\n",
    "        return n\n",
    "       \n",
    "    for i in range(2,n+1):        \n",
    "        f.append(f[i-2]+f[i-1])\n",
    "#         print(f)\n",
    "        \n",
    "    return f[n] \n",
    "\n",
    "print(fib2(9))"
   ]
  },
  {
   "cell_type": "code",
   "execution_count": 24,
   "id": "d8be043a",
   "metadata": {},
   "outputs": [
    {
     "name": "stdout",
     "output_type": "stream",
     "text": [
      "2 1 10 5 49 23 90 "
     ]
    }
   ],
   "source": [
    "\n",
    "# Python function to sort the array arr[0..n-1] in wave form,\n",
    "# i.e., arr[0] >= arr[1] <= arr[2] >= arr[3] <= arr[4] >= arr[5]\n",
    "def sortInWave(arr, n):\n",
    "     \n",
    "    #sort the array\n",
    "    arr.sort()\n",
    "    \n",
    "    # Swap adjacent elements\n",
    "    for i in range(0,n-1,2):\n",
    "        arr[i], arr[i+1] = arr[i+1], arr[i]\n",
    " \n",
    "# Driver program\n",
    "arr = [10, 90, 49, 2, 1, 5, 23]\n",
    "sortInWave(arr, len(arr))\n",
    "for i in range(0,len(arr)):\n",
    "    print (arr[i], end=\" \")\n",
    "     "
   ]
  },
  {
   "cell_type": "markdown",
   "id": "c392e467",
   "metadata": {},
   "source": [
    "## find the missing numbers between arrays"
   ]
  },
  {
   "cell_type": "code",
   "execution_count": 25,
   "id": "ed7743fd",
   "metadata": {},
   "outputs": [
    {
     "data": {
      "text/plain": [
       "1"
      ]
     },
     "execution_count": 25,
     "metadata": {},
     "output_type": "execute_result"
    }
   ],
   "source": [
    "def find_missing(str1,str2):\n",
    "    str1.sort()\n",
    "    str2.sort()\n",
    "    miss_str=[]\n",
    "    \n",
    "    for i,j in zip(str1,str2):\n",
    "        if i!=j:\n",
    "            return(i)\n",
    "        \n",
    "    return str1[-1]\n",
    "    \n",
    "find_missing([1,2,3,6,4],[1,2,3,4,5,8,9,0])    "
   ]
  },
  {
   "cell_type": "code",
   "execution_count": 26,
   "id": "e701d61f",
   "metadata": {},
   "outputs": [
    {
     "data": {
      "text/plain": [
       "{0, 5, 6, 9, 10}"
      ]
     },
     "execution_count": 26,
     "metadata": {},
     "output_type": "execute_result"
    }
   ],
   "source": [
    "def find_missing(str1,str2):\n",
    "    str1.sort()\n",
    "    str2.sort()\n",
    "    miss_str=[]\n",
    "    return set(str1)^set(str2)\n",
    "    \n",
    "find_missing([1,2,3,6,4,8,8,8,10],[1,2,3,4,5,8,9,0])  "
   ]
  },
  {
   "cell_type": "code",
   "execution_count": 27,
   "id": "5ba15c09",
   "metadata": {},
   "outputs": [
    {
     "name": "stdout",
     "output_type": "stream",
     "text": [
      "[0, 1, 1, 2, 2, 3, 3, 4, 4, 5, 6, 8, 9]\n"
     ]
    }
   ],
   "source": [
    "a=sorted([1, 2, 3, 6, 4, 1, 2, 3, 4, 5, 8, 9, 0])\n",
    "print(a)\n"
   ]
  },
  {
   "cell_type": "code",
   "execution_count": 28,
   "id": "740b58f2",
   "metadata": {},
   "outputs": [],
   "source": [
    "import collections\n",
    "\n",
    "def finder2(arr1, arr2): \n",
    "    \n",
    "    # Using default dict to avoid key errors\n",
    "    d=collections.defaultdict(int) \n",
    "    miss_str=[]\n",
    "    \n",
    "    # Add a count for every instance in Array 1\n",
    "    for num in arr2:\n",
    "        d[num]+=1 \n",
    "    \n",
    "    # Check if num not in dictionary\n",
    "    for num in arr1: \n",
    "        if d[num]==0: \n",
    "            miss_str.append(num)\n",
    "            \n",
    "        \n",
    "        # Otherwise, subtract a count\n",
    "        else: d[num]-=1\n",
    "            \n",
    "    return(sorted(miss_str))"
   ]
  },
  {
   "cell_type": "code",
   "execution_count": 29,
   "id": "9c382a04",
   "metadata": {},
   "outputs": [
    {
     "data": {
      "text/plain": [
       "[6]"
      ]
     },
     "execution_count": 29,
     "metadata": {},
     "output_type": "execute_result"
    }
   ],
   "source": [
    "finder2([1,2,3,6,4],[1,2,3,4,5,8,9,0])"
   ]
  },
  {
   "cell_type": "code",
   "execution_count": 30,
   "id": "a3d0663e",
   "metadata": {},
   "outputs": [
    {
     "data": {
      "text/plain": [
       "{0, 5, 6, 8, 9}"
      ]
     },
     "execution_count": 30,
     "metadata": {},
     "output_type": "execute_result"
    }
   ],
   "source": [
    "def finder3(arr1, arr2): \n",
    "    result=0 \n",
    "    s1=set(arr1)\n",
    "    s2=set(arr2)\n",
    "#     return (s1-s2).union(s2-s1)\n",
    "    return (s1^s2)\n",
    "    \n",
    "finder3([1,2,3,6,4],[1,2,3,4,5,8,9,0])   \n"
   ]
  },
  {
   "cell_type": "markdown",
   "id": "7afaf061",
   "metadata": {},
   "source": [
    "## Largest Continuous sum"
   ]
  },
  {
   "cell_type": "code",
   "execution_count": 31,
   "id": "9613e9e2",
   "metadata": {},
   "outputs": [
    {
     "name": "stdout",
     "output_type": "stream",
     "text": [
      "29\n",
      "17\n"
     ]
    }
   ],
   "source": [
    "def large_cont_Sum(arr):\n",
    "    if len(arr)==0:\n",
    "        return arr\n",
    "    \n",
    "    curr=prev=arr[0]\n",
    "    \n",
    "    for i in arr[1:]:        \n",
    "        prev=max(prev+i,i)\n",
    "#         print(prev)\n",
    "        curr=max(curr, prev)\n",
    "#         print(curr)\n",
    "        \n",
    "    return curr\n",
    "    \n",
    "print(large_cont_Sum([1,2,-1,3,4,10,10,-10,-1])   )\n",
    "print(large_cont_Sum([-11,-2,-1,3,4,10,-10,-10,-1]))   "
   ]
  },
  {
   "cell_type": "markdown",
   "id": "c85fa26c",
   "metadata": {},
   "source": [
    "## Linter using stacks/queues\n"
   ]
  },
  {
   "cell_type": "code",
   "execution_count": 32,
   "id": "906d6cfe",
   "metadata": {},
   "outputs": [
    {
     "name": "stdout",
     "output_type": "stream",
     "text": [
      "c->)\n",
      "chars->['(']\n",
      "c->)\n",
      "chars->['{', '[', '(']\n",
      "c->]\n",
      "chars->['{', '[']\n",
      "c->}\n",
      "chars->['{']\n",
      "c->]\n",
      "chars->['{', '[']\n",
      "c->}\n",
      "chars->['{']\n"
     ]
    },
    {
     "data": {
      "text/plain": [
       "True"
      ]
     },
     "execution_count": 32,
     "metadata": {},
     "output_type": "execute_result"
    }
   ],
   "source": [
    "\n",
    "def balance_check(s):\n",
    "    chars = []\n",
    "    matches = {')':'(',']':'[','}':'{'}\n",
    "    for c in s:\n",
    "        if c in matches:\n",
    "            print(\"c->{}\".format(c))\n",
    "            print(\"chars->{}\".format(chars))\n",
    "            if chars.pop() != matches[c]:\n",
    "                return False\n",
    "        else:\n",
    "            chars.append(c)\n",
    "    return chars == []        \n",
    "    \n",
    "\n",
    "\n",
    "balance_check('(){[()]}{[]}')\n"
   ]
  },
  {
   "cell_type": "code",
   "execution_count": 33,
   "id": "5a7a0e78",
   "metadata": {},
   "outputs": [],
   "source": [
    "def smallest_subarray_sum(arr,tgt):\n",
    "    if len(arr) <2 :\n",
    "        return len(arr)\n",
    "    else:\n",
    "        n=len(arr)\n",
    "        \n",
    "    min_length=n+1\n",
    "    \n",
    "    for i in range(0,n):\n",
    "        sum=arr[i]\n",
    "        if arr[i] >tgt:\n",
    "            return 1\n",
    "        \n",
    "        for j in range(i+1,n):\n",
    "            sum=sum+arr[j]\n",
    "            print(\"sum -{} ,arr[j] -{}, min_length -{}\".format(sum,arr[j],min_length))\n",
    "            if sum>tgt and j-i+1 <min_length:\n",
    "                min_length= j-i+1\n",
    "    \n",
    "    return min_length"
   ]
  },
  {
   "cell_type": "markdown",
   "id": "a9bbcb16",
   "metadata": {},
   "source": [
    "## Smallest sub array to sum value"
   ]
  },
  {
   "cell_type": "code",
   "execution_count": 34,
   "id": "2f4452d7",
   "metadata": {},
   "outputs": [
    {
     "name": "stdout",
     "output_type": "stream",
     "text": [
      "sum -5 ,arr[j] -4, min_length -7\n",
      "sum -50 ,arr[j] -45, min_length -7\n",
      "sum -56 ,arr[j] -6, min_length -7\n",
      "sum -56 ,arr[j] -0, min_length -4\n",
      "sum -75 ,arr[j] -19, min_length -4\n",
      "sum -49 ,arr[j] -45, min_length -4\n",
      "sum -55 ,arr[j] -6, min_length -4\n",
      "sum -55 ,arr[j] -0, min_length -3\n",
      "sum -74 ,arr[j] -19, min_length -3\n",
      "sum -51 ,arr[j] -6, min_length -3\n",
      "sum -51 ,arr[j] -0, min_length -3\n",
      "sum -70 ,arr[j] -19, min_length -3\n",
      "sum -6 ,arr[j] -0, min_length -3\n",
      "sum -25 ,arr[j] -19, min_length -3\n",
      "sum -19 ,arr[j] -19, min_length -3\n"
     ]
    },
    {
     "data": {
      "text/plain": [
       "3"
      ]
     },
     "execution_count": 34,
     "metadata": {},
     "output_type": "execute_result"
    }
   ],
   "source": [
    "smallest_subarray_sum([1, 4, 45, 6, 0, 19],51)"
   ]
  },
  {
   "cell_type": "markdown",
   "id": "1e7346c0",
   "metadata": {},
   "source": [
    "## Best average of the student"
   ]
  },
  {
   "cell_type": "code",
   "execution_count": 35,
   "id": "62e7358a",
   "metadata": {},
   "outputs": [
    {
     "name": "stdout",
     "output_type": "stream",
     "text": [
      "<class 'dict'>\n",
      "<class 'dict'>\n",
      "<class 'dict'>\n",
      "<class 'dict'>\n",
      "<class 'dict'>\n",
      "<class 'dict'>\n"
     ]
    }
   ],
   "source": [
    "a=[{\"Bob\":\"87\"}, {\"Mike\": \"35\"},{\"Bob\": \"52\"}, {\"Jason\":\"35\"}, {\"Mike\": \"55\"}, {\"Jessica\": \"99\"}]\n",
    "for i  in a:\n",
    "    print(type(i))"
   ]
  },
  {
   "cell_type": "code",
   "execution_count": 36,
   "id": "7200fced",
   "metadata": {},
   "outputs": [
    {
     "data": {
      "text/plain": [
       "'Jessica'"
      ]
     },
     "execution_count": 36,
     "metadata": {},
     "output_type": "execute_result"
    }
   ],
   "source": [
    "names={}\n",
    "cnt_sub={}\n",
    "names_avg={}\n",
    "\n",
    "def best_average(a):\n",
    "    for i in a:\n",
    "        max_score=0\n",
    "        student=\"\"        \n",
    "        k=\"\".join(list(i.keys()))\n",
    "#         print(k)\n",
    "        v=\"\".join(list(i.values()))        \n",
    "#         print(v)\n",
    "        if k in names:\n",
    "            names[k]=int(names[k])+int(v)\n",
    "            cnt_sub[k]+=1\n",
    "            names_avg[k]=names[k]/cnt_sub[k]\n",
    "            if names_avg[k]>max_score:\n",
    "                max_score=names_avg[k]\n",
    "                student=k\n",
    "        else:\n",
    "            names[k]=v\n",
    "            cnt_sub[k]=1\n",
    "            names_avg[k]=int(names[k])/int(cnt_sub[k])\n",
    "            if names_avg[k]>max_score:\n",
    "                max_score=names_avg[k]\n",
    "                student=k   \n",
    "#     print(names)        \n",
    "#     print(cnt_sub)        \n",
    "#     print(names_avg)\n",
    "\n",
    "    return student                \n",
    "\n",
    "best_average([{\"Bob\":\"87\"}, {\"Mike\": \"35\"},{\"Bob\": \"52\"}, {\"Jason\":\"35\"}, {\"Mike\": \"55\"}, {\"Jessica\": \"55\"}])\n"
   ]
  },
  {
   "cell_type": "code",
   "execution_count": 37,
   "id": "96052ca4",
   "metadata": {},
   "outputs": [
    {
     "data": {
      "text/plain": [
       "'a'"
      ]
     },
     "execution_count": 37,
     "metadata": {},
     "output_type": "execute_result"
    }
   ],
   "source": [
    "\"\".join(list({'a':10}.keys()))"
   ]
  },
  {
   "cell_type": "markdown",
   "id": "80c168ba",
   "metadata": {},
   "source": [
    "# Number is power of 10? or in other nth root "
   ]
  },
  {
   "cell_type": "code",
   "execution_count": 38,
   "id": "16b800de",
   "metadata": {},
   "outputs": [],
   "source": [
    "def chk_power1(n,p): #incomplete\n",
    "#     print(n)           \n",
    "    if n>p:        \n",
    "        n=n/p\n",
    "        print('2')\n",
    "        chk_power(n,p)\n",
    "    elif n==p:\n",
    "        print('3')\n",
    "        return n==p \n",
    "    else:\n",
    "        print('4')\n",
    "        return False\n",
    "        "
   ]
  },
  {
   "cell_type": "code",
   "execution_count": 39,
   "id": "3406d5e7",
   "metadata": {},
   "outputs": [
    {
     "name": "stdout",
     "output_type": "stream",
     "text": [
      "1000.0\n",
      "100.0\n",
      "10.0\n",
      "True\n",
      "31.0\n",
      "15.5\n",
      "7.75\n",
      "3.875\n",
      "1.9375\n",
      "False\n",
      "True\n"
     ]
    }
   ],
   "source": [
    "def chk_power2(n,p): \n",
    "    if p==1:\n",
    "        return True\n",
    "        \n",
    "    while n>p:\n",
    "        n=n/p\n",
    "        print(n)\n",
    "        \n",
    "    if n==p:\n",
    "        return True\n",
    "    else:\n",
    "        return False\n",
    "\n",
    "print(chk_power2(10000,10) )\n",
    "print(chk_power2(62,2) )\n",
    "print(chk_power2(2,1) )"
   ]
  },
  {
   "cell_type": "markdown",
   "id": "21f1fe7b",
   "metadata": {},
   "source": [
    "## nth smallest and nth biggest"
   ]
  },
  {
   "cell_type": "code",
   "execution_count": 40,
   "id": "2bbd6946",
   "metadata": {},
   "outputs": [
    {
     "name": "stdout",
     "output_type": "stream",
     "text": [
      "767\n",
      "[1, 3, 5, 34, 45, 345, 767, 6456]\n",
      "8\n"
     ]
    },
    {
     "data": {
      "text/plain": [
       "767"
      ]
     },
     "execution_count": 40,
     "metadata": {},
     "output_type": "execute_result"
    }
   ],
   "source": [
    "arr1=[1,3,5,345,6456,767,45,34]\n",
    "arr2=arr1.copy()\n",
    "# print(id(arr1))\n",
    "# print(id(arr2))\n",
    "arr2.remove(max(arr1))\n",
    "print(max(arr2))\n",
    "arr1.sort()\n",
    "print(arr1)\n",
    "print(len(arr1))\n",
    "arr1.pop(len(arr1)-2)\n",
    "\n"
   ]
  },
  {
   "cell_type": "code",
   "execution_count": 41,
   "id": "1fca0dd6",
   "metadata": {},
   "outputs": [
    {
     "name": "stdout",
     "output_type": "stream",
     "text": [
      "[1, 1, 23423, 234, 242, 2344, -1]\n",
      "1\n",
      "[1, 1, 23423, 234, 242, 2344, -1]\n",
      "[1, 1, 23423, 234, 242, 2344]\n",
      "[1, 23423, 234, 242, 2344]\n",
      "[23423, 234, 242, 2344]\n",
      "[23423, 242, 2344]\n",
      "[23423, 2344]\n",
      "23423\n"
     ]
    }
   ],
   "source": [
    "def nth_smallest(arr,n):\n",
    "    if len(arr) <2:\n",
    "        return \"\".join(str(x) for x in arr)\n",
    "    \n",
    "    if n==1:\n",
    "        return min(arr)\n",
    "    \n",
    "    mn=0 \n",
    "    _arr=arr.copy()\n",
    "    for i in range(1,n):\n",
    "        print(_arr)\n",
    "        mn=min(_arr)\n",
    "        _arr.remove(mn)\n",
    "        mn=min(_arr)\n",
    "              \n",
    "    \n",
    "    return mn\n",
    "\n",
    "print(nth_smallest([1,1,23423,234,242,2344,-1],2))\n",
    "\n",
    "\n",
    "\n",
    "print(nth_smallest([1,1,23423,234,242,2344,-1],7))"
   ]
  },
  {
   "cell_type": "code",
   "execution_count": 42,
   "id": "9bd2482b",
   "metadata": {},
   "outputs": [
    {
     "name": "stdout",
     "output_type": "stream",
     "text": [
      "[1, 1, 23423, 234, 242, 2344, -1]\n",
      "[1, 1, 234, 242, 2344, -1]\n",
      "242\n"
     ]
    }
   ],
   "source": [
    "def nth_largest(arr,n):\n",
    "    if len(arr) <2:\n",
    "        return \"\".join(str(x) for x in arr)\n",
    "    \n",
    "    if n==1:\n",
    "        return max(arr)\n",
    "    \n",
    "    mx=0\n",
    "    _arr=arr.copy()\n",
    "    for i in range(1,n):\n",
    "        print(_arr)\n",
    "        mx=max(_arr)\n",
    "        _arr.remove(mx)\n",
    "        mx=max(_arr)\n",
    "              \n",
    "    \n",
    "    return mx\n",
    "\n",
    "print(nth_largest([1,1,23423,234,242,2344,-1],3))\n"
   ]
  },
  {
   "cell_type": "code",
   "execution_count": 43,
   "id": "47eef66e",
   "metadata": {},
   "outputs": [
    {
     "data": {
      "text/plain": [
       "23423"
      ]
     },
     "execution_count": 43,
     "metadata": {},
     "output_type": "execute_result"
    }
   ],
   "source": [
    "max([1,1,23423,234,242,2344,-1])"
   ]
  },
  {
   "cell_type": "code",
   "execution_count": 44,
   "id": "762b9a41",
   "metadata": {},
   "outputs": [
    {
     "name": "stdout",
     "output_type": "stream",
     "text": [
      "{'a': [1, 2], 'b': [3]}\n",
      "{'a': ['sfdsdfsf']}\n"
     ]
    }
   ],
   "source": [
    "mylist = [('a',1),('a',2),('b',3)]    \n",
    "result = {}\n",
    "for i in mylist:  \n",
    "   result.setdefault(i[0],[]).append(i[1])   \n",
    "\n",
    "print(result)\n",
    "a={}\n",
    "a.setdefault('a',[]).append('sfdsdfsf')\n",
    "print(a)"
   ]
  },
  {
   "cell_type": "code",
   "execution_count": 45,
   "id": "e3559be5",
   "metadata": {},
   "outputs": [
    {
     "name": "stdout",
     "output_type": "stream",
     "text": [
      "Value : 7\n",
      "Value : None\n"
     ]
    }
   ],
   "source": [
    "dict = {'Name': 'Zara', 'Age': 7}\n",
    "print (\"Value : %s\" %  dict.setdefault('Age', None))\n",
    "print (\"Value : %s\" %  dict.setdefault('Sex', None))"
   ]
  },
  {
   "cell_type": "code",
   "execution_count": 46,
   "id": "cd6a476d",
   "metadata": {},
   "outputs": [
    {
     "name": "stdout",
     "output_type": "stream",
     "text": [
      "cat\n",
      "cah\n",
      "cta\n",
      "cth\n",
      "cha\n",
      "cht\n",
      "act\n",
      "ach\n",
      "atc\n",
      "ath\n",
      "ahc\n",
      "aht\n",
      "tca\n",
      "tch\n",
      "tac\n",
      "tah\n",
      "thc\n",
      "tha\n",
      "hca\n",
      "hct\n",
      "hac\n",
      "hat\n",
      "htc\n",
      "hta\n"
     ]
    }
   ],
   "source": [
    "import itertools\n",
    "from itertools import permutations\n",
    "for i in list(permutations('cath',3)):\n",
    "    print(\"\".join(i))\n"
   ]
  },
  {
   "cell_type": "code",
   "execution_count": 47,
   "id": "3ad5d959",
   "metadata": {},
   "outputs": [
    {
     "name": "stdout",
     "output_type": "stream",
     "text": [
      "['1', '2', '3', '4']\n",
      "['1', '2', '4', '3']\n",
      "['1', '3', '2', '4']\n",
      "['1', '3', '4', '2']\n",
      "['1', '4', '2', '3']\n",
      "['1', '4', '3', '2']\n",
      "['2', '1', '3', '4']\n",
      "['2', '1', '4', '3']\n",
      "['2', '3', '1', '4']\n",
      "['2', '3', '4', '1']\n",
      "['2', '4', '1', '3']\n",
      "['2', '4', '3', '1']\n",
      "['3', '1', '2', '4']\n",
      "['3', '1', '4', '2']\n",
      "['3', '2', '1', '4']\n",
      "['3', '2', '4', '1']\n",
      "['3', '4', '1', '2']\n",
      "['3', '4', '2', '1']\n",
      "['4', '1', '2', '3']\n",
      "['4', '1', '3', '2']\n",
      "['4', '2', '1', '3']\n",
      "['4', '2', '3', '1']\n",
      "['4', '3', '1', '2']\n",
      "['4', '3', '2', '1']\n"
     ]
    }
   ],
   "source": [
    "\n",
    "# Python function to print permutations of a given list\n",
    "def permutation(lst):\n",
    " \n",
    "    # If lst is empty then there are no permutations\n",
    "    if len(lst) == 0:\n",
    "        return []\n",
    " \n",
    "    # If there is only one element in lst then, only\n",
    "    # one permutation is possible\n",
    "    if len(lst) == 1:\n",
    "        return [lst]\n",
    " \n",
    "    # Find the permutations for lst if there are\n",
    "    # more than 1 characters\n",
    " \n",
    "    l = [] # empty list that will store current permutation\n",
    " \n",
    "    # Iterate the input(lst) and calculate the permutation\n",
    "    for i in range(len(lst)):\n",
    "        m = lst[i]\n",
    " \n",
    "       # Extract lst[i] or m from the list.  remLst is\n",
    "       # remaining list\n",
    "        remLst = lst[:i] + lst[i+1:]\n",
    "#         print(remLst)\n",
    "       # Generating all permutations where m is first\n",
    "       # element        \n",
    "        for p in permutation(remLst):\n",
    "#             print(p)\n",
    "            l.append([m] + p)\n",
    "    return l\n",
    " \n",
    " \n",
    "# Driver program to test above function\n",
    "data = list('1234')\n",
    "for p in permutation(data):\n",
    "    print (p)"
   ]
  },
  {
   "cell_type": "markdown",
   "id": "d03ff93b",
   "metadata": {},
   "source": [
    "## Given a string , find the character with max repeat"
   ]
  },
  {
   "cell_type": "code",
   "execution_count": 48,
   "id": "38cda476",
   "metadata": {},
   "outputs": [
    {
     "name": "stdout",
     "output_type": "stream",
     "text": [
      "{'l': 4, 'f': 1, 'y': 1, 'a': 2, 'i': 1, 'b': 1, 't': 1, 'r': 1, 'e': 1, 'd': 1, 's': 1, 'c': 1, 'h': 1, 'k': 4, 'g': 1}\n"
     ]
    },
    {
     "data": {
      "text/plain": [
       "4"
      ]
     },
     "execution_count": 48,
     "metadata": {},
     "output_type": "execute_result"
    }
   ],
   "source": [
    "a=\"asbcdferghtyikkkklllla\"\n",
    "b=list(set(a))\n",
    "cnt={}\n",
    "for i in b:\n",
    "    cnt[i]=a.count(i)\n",
    "\n",
    "print(cnt)  \n",
    "max(list(cnt.values()))\n",
    "# for k,v in cnt.items():\n",
    "#     if v==max(list(cnt.values())):\n",
    "#         print(k)\n",
    "    "
   ]
  },
  {
   "cell_type": "markdown",
   "id": "ee0584aa",
   "metadata": {},
   "source": [
    "## Dot Product\n"
   ]
  },
  {
   "cell_type": "code",
   "execution_count": 49,
   "id": "0cb397a2",
   "metadata": {},
   "outputs": [
    {
     "name": "stdout",
     "output_type": "stream",
     "text": [
      "Dot product is: 56\n"
     ]
    }
   ],
   "source": [
    "a = [5, 10, 2]\n",
    "b = [2, 4, 3]\n",
    "dotproduct=0\n",
    "for a,b in zip(a,b):\n",
    "    dotproduct = dotproduct+a*b\n",
    "print('Dot product is:', dotproduct)"
   ]
  },
  {
   "cell_type": "code",
   "execution_count": 50,
   "id": "498744ae",
   "metadata": {},
   "outputs": [
    {
     "name": "stdout",
     "output_type": "stream",
     "text": [
      "56\n"
     ]
    }
   ],
   "source": [
    "import numpy as np\n",
    " \n",
    "a = [5, 10, 2]\n",
    "b = [2, 4, 3]\n",
    "output = np.dot(a,b)\n",
    "print(output)"
   ]
  },
  {
   "cell_type": "markdown",
   "id": "d3b31ec1",
   "metadata": {},
   "source": [
    "## Robot posititon movement U,D,L R\n",
    "\n"
   ]
  },
  {
   "cell_type": "code",
   "execution_count": 51,
   "id": "26b2e733",
   "metadata": {},
   "outputs": [
    {
     "name": "stdout",
     "output_type": "stream",
     "text": [
      "Final Position: ( 2 ,  3 )\n",
      "Final Position: ( -1 ,  -1 )\n"
     ]
    }
   ],
   "source": [
    "def finalPosition(move):\n",
    " \n",
    "    l = len(move)\n",
    "    countUp, countDown = 0, 0\n",
    "    countLeft, countRight = 0, 0\n",
    " \n",
    "    # traverse the instruction string\n",
    "    # 'move'\n",
    "    for i in range(l):\n",
    " \n",
    "        # for each movement increment\n",
    "        # its respective counter\n",
    "        if (move[i] == 'U'):\n",
    "            countUp += 1\n",
    " \n",
    "        elif(move[i] == 'D'):\n",
    "            countDown += 1\n",
    " \n",
    "        elif(move[i] == 'L'):\n",
    "            countLeft += 1\n",
    " \n",
    "        elif(move[i] == 'R'):\n",
    "            countRight += 1\n",
    " \n",
    "    # required final position of robot\n",
    "    print(\"Final Position: (\", (countRight - countLeft),\n",
    "          \", \", (countUp - countDown), \")\")\n",
    " \n",
    " \n",
    "# Driver code\n",
    "if __name__ == '__main__':\n",
    "    move = \"UDDLLRUUUDUURUDDUULLDRRRR\"\n",
    "    finalPosition(move)    \n",
    "    move = \"UDDLRL\"\n",
    "    finalPosition(move)\n",
    " "
   ]
  },
  {
   "cell_type": "code",
   "execution_count": 52,
   "id": "abac2f88",
   "metadata": {},
   "outputs": [
    {
     "name": "stdout",
     "output_type": "stream",
     "text": [
      "[[0, 0, 0, 0, 0], [0, 0, 0, 0, 0], [0, 0, 0, 0, 0], [0, 0, 0, 0, 0], [0, 0, 0, 0, 0]]\n",
      "1 \n",
      "1 1 \n",
      "1 2 1 \n",
      "1 3 3 1 \n",
      "1 4 6 4 1 \n"
     ]
    }
   ],
   "source": [
    "# Python3 program for Pascal's Triangle\n",
    " \n",
    "\n",
    "def printPascal(n:int):\n",
    "    arr=[[0 for j in range(n)] for i in range(n)]\n",
    "    print(arr)\n",
    "    for i in range(0,n):\n",
    "        for j in range(0,i+1):            \n",
    "            if i==j or i==0:\n",
    "                arr[i][j]=1\n",
    "                print(arr[i][j], end=\" \")                \n",
    "            else:\n",
    "                arr[i][j]=arr[i-1][j-1]+arr[i-1][j]\n",
    "                print(arr[i][j], end= \" \")    \n",
    "    \n",
    "        print(\"\\n\",end =\"\")                \n",
    "    \n",
    "    \n",
    "    \n",
    "# Driver Code\n",
    "n = 5\n",
    "printPascal(n)\n"
   ]
  },
  {
   "cell_type": "code",
   "execution_count": 53,
   "id": "217b0729",
   "metadata": {},
   "outputs": [
    {
     "name": "stdout",
     "output_type": "stream",
     "text": [
      "{'Bobby': 17.0, 'Charles': 66.0, 'Eric': 64.0}\n"
     ]
    },
    {
     "data": {
      "text/plain": [
       "'Charles'"
      ]
     },
     "execution_count": 53,
     "metadata": {},
     "output_type": "execute_result"
    }
   ],
   "source": [
    "scores=[[\"Bobby\", \"17\"], [\"Charles\", \"100\"],[\"Eric\", \"64\"],[\"Charles\", \"32\"]]\n",
    "score_d={}\n",
    "score_cnt={}\n",
    "score_avg={}\n",
    "max_avg=0\n",
    "student=\"\"\n",
    "for i in scores:\n",
    "    if i[0] in score_d:\n",
    "        score_d[i[0]]+=int(i[1])\n",
    "        score_cnt[i[0]]+=1\n",
    "        score_avg[i[0]]=int(score_d[i[0]])/int(score_cnt[i[0]])\n",
    "#         print(score_avg)   \n",
    "    else:\n",
    "        score_d[i[0]]=int(i[1])\n",
    "        score_cnt[i[0]]=1\n",
    "        score_avg[i[0]]=int(score_d[i[0]])/int(score_cnt[i[0]])\n",
    "\n",
    "print(score_avg)    \n",
    "list(score_avg.keys())[list(score_avg.values()).index(max(score_avg.values()))]      \n",
    "    "
   ]
  },
  {
   "cell_type": "code",
   "execution_count": 54,
   "id": "2736066f",
   "metadata": {},
   "outputs": [
    {
     "name": "stdout",
     "output_type": "stream",
     "text": [
      "<__main__.Node object at 0x000002DE2FFDA8B0>\n",
      "2\n"
     ]
    }
   ],
   "source": [
    "class Node(object):\n",
    "   \n",
    "    def __init__(self,value):\n",
    "        self.value=value\n",
    "        self.next=-1\n",
    "        self.prev=-2\n",
    "\n",
    "a=Node(1)\n",
    "b=Node(2)\n",
    "c=Node(3)\n",
    "\n",
    "\n",
    "a.next=b\n",
    "b.next=c\n",
    "print(b)\n",
    "print(a.next.value)"
   ]
  },
  {
   "cell_type": "markdown",
   "id": "4faeb4c9",
   "metadata": {},
   "source": [
    "you have give a string input and find out the longest uniform substring sequence\n",
    "Input – “bbaaacbeeee”\n",
    "Out put will be “eeee”"
   ]
  },
  {
   "cell_type": "code",
   "execution_count": 55,
   "id": "1ac65b66",
   "metadata": {},
   "outputs": [
    {
     "name": "stdout",
     "output_type": "stream",
     "text": [
      "hhhhhhhh\n"
     ]
    }
   ],
   "source": [
    "def long_unif_str(s):\n",
    "    \n",
    "    if len(s)<2:\n",
    "        return s\n",
    "    \n",
    "    min_idx=0\n",
    "    max_idx=0\n",
    "    curr_val=\"\"\n",
    "    max_chr_len=0\n",
    "    chr_str=\"\"\n",
    "    chr_len=0\n",
    "    for i in range(len(s)):\n",
    "#         print(max_idx,min_idx)\n",
    "#         print(s[min_idx:max_idx])\n",
    "#         print(chr_len)\n",
    "        if s[i]==curr_val:\n",
    "            max_idx=i\n",
    "            chr_len=int(max_idx)-int(min_idx)\n",
    "            if chr_len>max_chr_len:\n",
    "                max_chr_len=chr_len\n",
    "                chr_str=s[min_idx:max_idx+1]\n",
    "        else:\n",
    "            min_idx=i            \n",
    "            curr_val=s[i]\n",
    "            chr_len=int(max_idx)-int(min_idx)\n",
    "            if chr_len>max_chr_len:\n",
    "                max_chr_len=chr_len\n",
    "                chr_str=s[min_idx:max_idx+1]\n",
    "                \n",
    "    return chr_str        \n",
    "\n",
    "\n",
    "print(long_unif_str('hhhhhhhhbbaaacbeeeerrrffhhhhhhhhgrrrrrrrr34543rrr'))    "
   ]
  },
  {
   "cell_type": "markdown",
   "id": "2efa4266",
   "metadata": {},
   "source": [
    "Reverse using recursion"
   ]
  },
  {
   "cell_type": "code",
   "execution_count": 56,
   "id": "9da97a64",
   "metadata": {},
   "outputs": [
    {
     "name": "stdout",
     "output_type": "stream",
     "text": [
      "kayak\n"
     ]
    }
   ],
   "source": [
    "def reverse_recur(s):\n",
    "#     print(s)\n",
    "    # Base Case\n",
    "    if len(s) <= 1:\n",
    "        return s\n",
    "\n",
    "    # Recursion\n",
    "    return reverse_recur(s[1:]) + s[0]\n",
    "\n",
    "\n",
    "print(reverse_recur(\"kayak\"))\n"
   ]
  },
  {
   "cell_type": "code",
   "execution_count": 57,
   "id": "43c77c5f",
   "metadata": {},
   "outputs": [
    {
     "name": "stdout",
     "output_type": "stream",
     "text": [
      "['abc', 'acb', 'bac', 'bca', 'cab', 'cba']\n"
     ]
    }
   ],
   "source": [
    "def permute_recur(s):\n",
    "    out = []\n",
    "    # Base Case\n",
    "    if len(s) == 1:\n",
    "        out = [s]\n",
    "        \n",
    "    else:\n",
    "        # For every letter in string\n",
    "        for i, let in enumerate(s):\n",
    "#             print(f'{s[:i]}', end=\"\")\n",
    "#             print(s[i+1:])\n",
    "            # For every permutation resulting from Step 2 and 3 described above\n",
    "            for perm in permute_recur(s[:i] + s[i+1:]):\n",
    "                \n",
    "                # Add it to output\n",
    "                out += [let + perm]\n",
    "\n",
    "    return out\n",
    "\n",
    "print(permute_recur(\"abc\"))"
   ]
  },
  {
   "cell_type": "code",
   "execution_count": 58,
   "id": "cb3f2dc9",
   "metadata": {},
   "outputs": [
    {
     "name": "stdout",
     "output_type": "stream",
     "text": [
      "3\n",
      "1\n"
     ]
    }
   ],
   "source": [
    "class Node(object):\n",
    "    def __init__(self,value):\n",
    "        self.value=value\n",
    "        self.nextnode=None\n",
    "        self.prevnode=None\n",
    "        \n",
    "        \n",
    "a=Node(1)        \n",
    "b=Node(2)        \n",
    "c=Node(3)\n",
    "\n",
    "a.nextnode=b\n",
    "b.nextnode=c\n",
    "\n",
    "b.prevnode=a\n",
    "c.prevnode=b\n",
    "\n",
    "print (a.nextnode.nextnode.value)\n",
    "\n",
    "print (c.prevnode.prevnode.value)\n",
    "\n",
    "        "
   ]
  },
  {
   "cell_type": "markdown",
   "id": "e2263b46",
   "metadata": {},
   "source": [
    "Binary Search Tree\n",
    "\n"
   ]
  },
  {
   "cell_type": "code",
   "execution_count": 59,
   "id": "77807e27",
   "metadata": {},
   "outputs": [
    {
     "name": "stdout",
     "output_type": "stream",
     "text": [
      "[5, [], []]\n",
      "[5, [8, [7, [], []], []], [3, [], [4, [], []]]]\n"
     ]
    }
   ],
   "source": [
    "# using list\n",
    "\n",
    "def BST(root):\n",
    "    return [root,[],[]]\n",
    "\n",
    "def insertleft(root,branch):\n",
    "    if root:\n",
    "        t=root.pop(1)\n",
    "        if len(t)>1:\n",
    "            root.insert(1,[branch,t,[]])\n",
    "        else:\n",
    "            root.insert(1,[branch,[],[]])\n",
    "\n",
    "def insertright(root,branch):\n",
    "    if root:\n",
    "        t=root.pop(2)\n",
    "        if len(t)>1:\n",
    "            root.insert(2,[branch,[],t])\n",
    "        else:\n",
    "            root.insert(2,[branch,[],[]])\n",
    "\n",
    "def getroot():\n",
    "    if root:\n",
    "        return root\n",
    "\n",
    "def getleft(r):\n",
    "    return r[1]\n",
    "\n",
    "def getright(r):    \n",
    "    return r[2]\n",
    "\n",
    "r=BST(5)\n",
    "print(r)\n",
    "insertleft(r,7)\n",
    "insertleft(r,8)\n",
    "insertright(r,4)\n",
    "insertright(r,3)\n",
    "print(r)"
   ]
  },
  {
   "cell_type": "code",
   "execution_count": 60,
   "id": "94f2788e",
   "metadata": {},
   "outputs": [
    {
     "name": "stdout",
     "output_type": "stream",
     "text": [
      "150th ugly no. is  5832\n"
     ]
    }
   ],
   "source": [
    "#ugly Count\n",
    "\n",
    "def maxDivide(a, b):\n",
    "    while a % b == 0:\n",
    "#         print(a)\n",
    "        a = a / b\n",
    "    return a\n",
    "\n",
    "def ugly_2_3_5(n):\n",
    "    \n",
    "    if n<2:\n",
    "        return 1\n",
    "    else:\n",
    "        n=maxDivide(n,2)\n",
    "        n=maxDivide(n,3)\n",
    "        n=maxDivide(n,5)\n",
    "        \n",
    "    return n if n==1 else 0\n",
    "        \n",
    "    \n",
    "def ugly_count(n):\n",
    "    i=0\n",
    "    count=0\n",
    "    \n",
    "    while n >count:\n",
    "        i=i+1\n",
    "        if ugly_2_3_5(i):\n",
    "            count+=1\n",
    "        \n",
    "    return i\n",
    "\n",
    "no = ugly_count(150)\n",
    "print(\"150th ugly no. is \", no)\n"
   ]
  },
  {
   "cell_type": "code",
   "execution_count": 61,
   "id": "fc7a7136",
   "metadata": {},
   "outputs": [
    {
     "name": "stdout",
     "output_type": "stream",
     "text": [
      "defaultdict(<class 'list'>, {})\n",
      "defaultdict(<class 'list'>, {'ACT': ['act']})\n",
      "defaultdict(<class 'list'>, {'ACT': ['act'], 'DGO': ['god']})\n",
      "defaultdict(<class 'list'>, {'ACT': ['act', 'cat'], 'DGO': ['god']})\n",
      "defaultdict(<class 'list'>, {'ACT': ['act', 'cat'], 'DGO': ['god', 'dog']})\n"
     ]
    },
    {
     "data": {
      "text/plain": [
       "[['act', 'cat', 'tac'], ['god', 'dog']]"
      ]
     },
     "execution_count": 61,
     "metadata": {},
     "output_type": "execute_result"
    }
   ],
   "source": [
    "from collections import defaultdict\n",
    "\n",
    "def Anagrams_grouper( s, n):\n",
    "    d=defaultdict(list)    \n",
    "#     d={}\n",
    "\n",
    "    for i,e in enumerate(s):\n",
    "#         print(e)\n",
    "        e=\"\".join(sorted(e.upper()))\n",
    "#         print(e)\n",
    "        print(d)\n",
    "        d[e].append(s[i])       \n",
    "        \n",
    "    res=[]\n",
    "#     print(d)\n",
    "    for l in d.values():\n",
    "        res.append(l)\n",
    "    return res\n",
    "\n",
    "Anagrams_grouper( ['act','god','cat','dog','tac'],5)"
   ]
  },
  {
   "cell_type": "code",
   "execution_count": 62,
   "id": "b16419f0",
   "metadata": {},
   "outputs": [],
   "source": [
    "def same_arr_or_not(a,b):\n",
    "    return len(a)==len(b) and \"\".join(sorted(a))==\"\".join(sorted(b))"
   ]
  },
  {
   "cell_type": "code",
   "execution_count": 63,
   "id": "0a062841",
   "metadata": {},
   "outputs": [],
   "source": [
    "import sys\n",
    "\n",
    "# Function to get minimum number of trials\n",
    "# needed in worst case with n eggs and k floors\n",
    "def eggDrop(n, k):\n",
    "\n",
    "    # If there are no floors, then no trials\n",
    "    # needed. OR if there is one floor, one\n",
    "    # trial needed.\n",
    "    if (k == 1 or k == 0):\n",
    "        return k\n",
    "\n",
    "    # We need k trials for one egg\n",
    "    # and k floors\n",
    "    if (n == 1):\n",
    "        return k\n",
    "\n",
    "    min = sys.maxsize\n",
    "\n",
    "    # Consider all droppings from 1st\n",
    "    # floor to kth floor and return\n",
    "    # the minimum of these values plus 1.\n",
    "    for x in range(1, k + 1):\n",
    "\n",
    "        res = max(eggDrop(n - 1, x - 1),\n",
    "                eggDrop(n, k - x))\n",
    "        if (res < min):\n",
    "            min = res\n",
    "\n",
    "    return min + 1\n",
    "\n",
    "# Driver Code\n",
    "# if __name__ == \"__main__\":\n",
    "n = 2\n",
    "k = 34\n",
    "# print(\"Minimum number of trials in worst case with\",\n",
    "#         n, \"eggs and\", k, \"floors is\", eggDrop(n, k))\n",
    "\n",
    "# This code is contributed by ita_c"
   ]
  },
  {
   "cell_type": "code",
   "execution_count": 64,
   "id": "218c2fe6",
   "metadata": {},
   "outputs": [
    {
     "name": "stdout",
     "output_type": "stream",
     "text": [
      "[[0, 0, 0, 0], [0, 0, 0, 0], [0, 0, 0, 0], [0, 0, 0, 0]]\n"
     ]
    },
    {
     "data": {
      "text/plain": [
       "array([[ True,  True,  True,  True],\n",
       "       [ True,  True,  True,  True],\n",
       "       [ True,  True,  True,  True],\n",
       "       [ True,  True,  True,  True]])"
      ]
     },
     "execution_count": 64,
     "metadata": {},
     "output_type": "execute_result"
    }
   ],
   "source": [
    "import numpy as np\n",
    "a_z=np.zeros([4,4],int)\n",
    "\n",
    "b_z=[[0 for i in range(4)] for i in range(4)]\n",
    "print(b_z)\n",
    "\n",
    "a_z==b_z"
   ]
  },
  {
   "cell_type": "code",
   "execution_count": 65,
   "id": "addbdc1d",
   "metadata": {},
   "outputs": [
    {
     "name": "stdout",
     "output_type": "stream",
     "text": [
      "n 210-i 2\n",
      "n 105-i 2\n",
      "n 105-i 3\n",
      "n 35-i 3\n",
      "n 35-i 4\n",
      "n 35-i 5\n",
      "7\n",
      "(2, 3, 5, 7)\n"
     ]
    }
   ],
   "source": [
    "def prime_factors_2(n):\n",
    "    i = 2\n",
    "    factors = []\n",
    "    while i * i <= n:\n",
    "        print(f\"n {n}-i {i}\")\n",
    "        if n % i:\n",
    "#             print(n)\n",
    "            i += 1\n",
    "            \n",
    "        else:\n",
    "            n //= i\n",
    "            factors.append(i)\n",
    "    print(n)\n",
    "    if n > 1:\n",
    "        factors.append(n)\n",
    "    return tuple(set(factors))\n",
    "\n",
    "print(prime_factors_2(210))"
   ]
  },
  {
   "cell_type": "code",
   "execution_count": 66,
   "id": "af3cfc83",
   "metadata": {},
   "outputs": [
    {
     "name": "stdout",
     "output_type": "stream",
     "text": [
      "{'i', 'x', 'b', 'n', 'r', 'd', 's', 'j', 'l', ' ', 'p', 'a', 'm', 'h', 'z', 'y', 't', 'v', 'e', 'c', 'w', 'o', 'g', '-', 'u', 'f', 'q', 'k'}\n",
      "{'-', ' '}\n",
      "No\n"
     ]
    }
   ],
   "source": [
    "# Python3 program to\n",
    "# Check if the string is pangram\n",
    "import string\n",
    "\n",
    "alphabet = set(string.ascii_lowercase)\n",
    "\n",
    "def ispangram(str):\n",
    "    print(set(str))\n",
    "    print(set(str) - set(alphabet))\n",
    "    return not set(str) - set(alphabet)\n",
    "    \n",
    "# Driver code\n",
    "string = 'the quick brown - fox jumps over the lazy dog'\n",
    "if(ispangram(string) == True):\n",
    "    print(\"Yes\")\n",
    "else:\n",
    "    print(\"No\")"
   ]
  },
  {
   "cell_type": "code",
   "execution_count": 67,
   "id": "f47dbeab",
   "metadata": {},
   "outputs": [
    {
     "name": "stdout",
     "output_type": "stream",
     "text": [
      "The input string is GEEKSFORGEEKS\n",
      "EKS\n",
      "The length of the longest non-repeating character substring is 7\n"
     ]
    }
   ],
   "source": [
    "# Python3 program to find the length\n",
    "# of the longest substring\n",
    "# without repeating characters\n",
    "def longestUniqueSubsttr(string):\n",
    "\n",
    "    # last index of every character\n",
    "    last_idx = {}\n",
    "    max_len = 0\n",
    "\n",
    "    # starting index of current\n",
    "    # window to calculate max_len\n",
    "    start_idx = 0\n",
    "    st=0\n",
    "    for i in range(0, len(string)):\n",
    "    \n",
    "        # Find the last index of str[i]\n",
    "        # Update start_idx (starting index of current window)\n",
    "        # as maximum of current value of start_idx and last\n",
    "        # index plus 1\n",
    "        if string[i] in last_idx:\n",
    "            st=start_idx\n",
    "            start_idx = max(start_idx, last_idx[string[i]] + 1)\n",
    "#             print(f\"{start_idx}  start idx after if change\")\n",
    "\n",
    "        # Update result if we get a larger window\n",
    "#         print(f\"{max_len} max len before change\")\n",
    "        max_len = max(max_len, i-start_idx + 1)\n",
    "        \n",
    "\n",
    "        # Update last index of current char.\n",
    "        last_idx[string[i]] = i\n",
    "#         print(f' i-{i}- {last_idx}')\n",
    "#         print(f\"{max_len} max len after change\")\n",
    "    print(string[st:st+max_len])\n",
    "    return max_len\n",
    "\n",
    "\n",
    "# Driver program to test the above function\n",
    "# string = \"geeks123forgeeks\"\n",
    "string = \"GEEKSFORGEEKS\"\n",
    "print(\"The input string is \" + string)\n",
    "length = longestUniqueSubsttr(string)\n",
    "print(\"The length of the longest non-repeating character\" +\n",
    "    \" substring is \" + f\"{length}\")\n"
   ]
  },
  {
   "cell_type": "code",
   "execution_count": 68,
   "id": "bcd6186b",
   "metadata": {},
   "outputs": [
    {
     "name": "stdout",
     "output_type": "stream",
     "text": [
      "fds\n",
      "sfd\n",
      "fsd\n"
     ]
    }
   ],
   "source": [
    "\n",
    "\n",
    "# s = input()\n",
    "s=\"fdsdsfdsfssd\"\n",
    "# k = int(input())\n",
    "k=4\n",
    "num_subsegments = int(len(s) / k)\n",
    "\n",
    "for index in range(num_subsegments):\n",
    "    # Subsegment string\n",
    "    t = s[index * k : (index + 1) * k]\n",
    "    \n",
    "    # Subsequence string having distinct characters\n",
    "    u = \"\"\n",
    "    \n",
    "    # If a character is not already in 'u', append\n",
    "    for c in t:\n",
    "        if c not in u:\n",
    "            u += c\n",
    "\n",
    "    # Print final converted string\n",
    "    print(u)"
   ]
  },
  {
   "cell_type": "code",
   "execution_count": 69,
   "id": "e5c5f3c7",
   "metadata": {},
   "outputs": [
    {
     "data": {
      "text/plain": [
       "False"
      ]
     },
     "execution_count": 69,
     "metadata": {},
     "output_type": "execute_result"
    }
   ],
   "source": [
    "#check for cyle single linked list\n",
    "\n",
    "class Node(object):\n",
    "    \n",
    "    def __init__(self,x):\n",
    "        self.data=x\n",
    "        self.next=None        \n",
    "i=10\n",
    "a = Node(i)\n",
    "b = Node(2*i)\n",
    "c = Node(3*i)\n",
    "a.next=b\n",
    "b.next=c\n",
    "\n",
    "\n",
    "def cycle_check(ip):\n",
    "    p1=ip\n",
    "    p2=ip  \n",
    "        \n",
    "    while p2 != None and p2.next!=None:\n",
    "        p1=p1.next\n",
    "        p2=p2.next.next\n",
    "        \n",
    "        if p1==p2:\n",
    "            return True        \n",
    "    return False\n",
    "\n",
    "cycle_check(a)"
   ]
  },
  {
   "cell_type": "code",
   "execution_count": 70,
   "id": "9be8c891",
   "metadata": {},
   "outputs": [
    {
     "name": "stdout",
     "output_type": "stream",
     "text": [
      "10\n",
      "20\n",
      "30\n"
     ]
    }
   ],
   "source": [
    "print(a.data)\n",
    "print(b.data)\n",
    "print(c.data)"
   ]
  },
  {
   "cell_type": "code",
   "execution_count": 71,
   "id": "f5b12f60",
   "metadata": {},
   "outputs": [
    {
     "data": {
      "text/plain": [
       "True"
      ]
     },
     "execution_count": 71,
     "metadata": {},
     "output_type": "execute_result"
    }
   ],
   "source": [
    "c.next=a\n",
    "\n",
    "cycle_check(b)"
   ]
  },
  {
   "cell_type": "code",
   "execution_count": 72,
   "id": "6b6c1b47",
   "metadata": {},
   "outputs": [
    {
     "name": "stdout",
     "output_type": "stream",
     "text": [
      "20\n",
      "30\n",
      "40\n"
     ]
    }
   ],
   "source": [
    "# reorder linked list\n",
    "\n",
    "class Node():\n",
    "    def __init__(self,x=None):\n",
    "        self.val=x\n",
    "        self.next =None        \n",
    "\n",
    "class Solution(Node):\n",
    "    \n",
    "#     def __init__(self):\n",
    "#         super().__init__()\n",
    "    \n",
    "    def reorderlist(self,head):\n",
    "        #find middle\n",
    "        slow,fast=head,head.next\n",
    "        while fast and fast.next:\n",
    "            slow=slow.next\n",
    "            fast=fast.next.next\n",
    "\n",
    "        #revrese second half    \n",
    "        second = slow.next\n",
    "        prev= slow.next =None    \n",
    "        while second:\n",
    "            tmp=second.next\n",
    "            second.next=prev\n",
    "            prev=second\n",
    "            second=tmp\n",
    "\n",
    "\n",
    "        #merge two halfs\n",
    "        first,second=head,prev\n",
    "        while second:\n",
    "            tmp1,tmp2 =first.next,second.next\n",
    "            first.next=second\n",
    "            second.next=tmp1\n",
    "            first,second =tmp1,tmp2\n",
    "        \n",
    "        \n",
    "i=10\n",
    "e = Solution(i)\n",
    "f = Solution(2*i)\n",
    "g = Solution(3*i)\n",
    "h = Solution(4*i)\n",
    "e.next=f\n",
    "f.next=g\n",
    "g.next=h\n",
    "\n",
    "print(e.next.val)\n",
    "print(f.next.val)\n",
    "print(g.next.val)\n"
   ]
  },
  {
   "cell_type": "code",
   "execution_count": 73,
   "id": "2cbd767a",
   "metadata": {},
   "outputs": [
    {
     "name": "stdout",
     "output_type": "stream",
     "text": [
      "40\n"
     ]
    }
   ],
   "source": [
    "sol=Solution(3)\n",
    "sol.reorderlist(e)\n",
    "                \n",
    "print(h.val)\n",
    "\n",
    "# print(h.val)"
   ]
  },
  {
   "cell_type": "code",
   "execution_count": 74,
   "id": "63bf20bf",
   "metadata": {},
   "outputs": [],
   "source": [
    "# To add get display linkedlist items\n",
    "\n",
    "class Node():\n",
    "    def __init__(self,x=None):\n",
    "        self.val=x\n",
    "        self.next =None \n",
    "\n",
    "class LinkedList:\n",
    "    def __init__(self):\n",
    "        self.head=Node()\n",
    "        self.last=None\n",
    "        \n",
    "    def length(self):        \n",
    "        cnt=0\n",
    "        cur=self.head\n",
    "        while cur.next:\n",
    "            cur=cur.next\n",
    "            cnt+=1\n",
    "        self.last=cur        \n",
    "        return cnt    \n",
    "    \n",
    "    def append(self,data):\n",
    "        cur=self.head\n",
    "        newnode=Node(data)\n",
    "        while cur.next:\n",
    "            cur=cur.next\n",
    "            \n",
    "        cur.next=newnode   \n",
    "    \n",
    "    def get_head(self):\n",
    "        return self.head\n",
    "    \n",
    "    def get_last(self):\n",
    "        return self.last\n",
    "    \n",
    "    def display(self):\n",
    "        cur=self.head\n",
    "        ll_arr=[]\n",
    "        while cur.next:\n",
    "            cur=cur.next\n",
    "            ll_arr.append(cur.val)\n",
    "#             print(cur.val,end =\"->\")\n",
    "        print(ll_arr)\n",
    "     \n",
    "    def get(self,index):\n",
    "        cur=self.head\n",
    "        if index>=self.length() or index<0:\n",
    "            raise Exception('Index range out of length')\n",
    "        \n",
    "        cur_idx=0\n",
    "        while True:\n",
    "            cur=cur.next\n",
    "            if cur_idx==index:\n",
    "                return cur.val\n",
    "            cur_idx+=1\n",
    "        \n",
    "    def remove_node(self,node):\n",
    "        cur=self.head                \n",
    "        # to handle last node in LL\n",
    "        if node==self.last:            \n",
    "            while cur.next:\n",
    "                prev=cur\n",
    "                cur=cur.next\n",
    "                if cur==self.last:                    \n",
    "                    prev.next=None\n",
    "                    break\n",
    "                    \n",
    "        # to handle all nodes except last\n",
    "        while cur.next:                                                                \n",
    "            prev=cur\n",
    "            if cur==node:\n",
    "                prev.next=cur.next.next       \n",
    "                    \n",
    "            cur=cur.next            \n",
    "            \n",
    "        print(prev.val)\n",
    "        print(cur.val)\n",
    "\n",
    "       "
   ]
  },
  {
   "cell_type": "code",
   "execution_count": 75,
   "id": "b779315d",
   "metadata": {},
   "outputs": [
    {
     "name": "stdout",
     "output_type": "stream",
     "text": [
      "[0, 1, 2, 3, 4, 5, 6, 7, 8, 9, 10, 11, 12, 13, 14, 15, 16, 17, 18, 19, 20, 21, 22, 23, 24, 25, 26, 27, 28, 29, 30, 31, 32, 33, 34, 35, 36, 37, 38, 39, 40, 41, 42, 43, 44, 45, 46, 47, 48, 49, 50, 51, 52, 53, 54, 55, 56, 57, 58, 59, 60, 61, 62, 63, 64, 65, 66, 67, 68, 69, 70, 71, 72, 73, 74, 75, 76, 77, 78, 79, 80, 81, 82, 83, 84, 85, 86, 87, 88, 89, 90, 91, 92, 93, 94, 95, 96, 97, 98, 99]\n",
      "1\n",
      "10\n",
      "first value - None\n",
      "last value - 99\n"
     ]
    }
   ],
   "source": [
    "ll=LinkedList()\n",
    "for i in range(100):\n",
    "    ll.append(i)\n",
    "\n",
    "ll.length()\n",
    "\n",
    "ll.display() # diaply llinked lists\n",
    "print(ll.head.next.next.val) # head next next value\n",
    "print(ll.get(10)) #get 10\n",
    "\n",
    "print(f\"first value - {ll.get_head().val}\")\n",
    "print(f\"last value - {ll.get_last().val}\")"
   ]
  },
  {
   "cell_type": "code",
   "execution_count": 76,
   "id": "ad43b790",
   "metadata": {},
   "outputs": [
    {
     "name": "stdout",
     "output_type": "stream",
     "text": [
      "98\n",
      "99\n",
      "[1, 2, 3, 4, 5, 6, 7, 8, 9, 10, 11, 12, 13, 14, 15, 16, 17, 18, 19, 20, 21, 22, 23, 24, 25, 26, 27, 28, 29, 30, 31, 32, 33, 34, 35, 36, 37, 38, 39, 40, 41, 42, 43, 44, 45, 46, 47, 48, 49, 50, 51, 52, 53, 54, 55, 56, 57, 58, 59, 60, 61, 62, 63, 64, 65, 66, 67, 68, 69, 70, 71, 72, 73, 74, 75, 76, 77, 78, 79, 80, 81, 82, 83, 84, 85, 86, 87, 88, 89, 90, 91, 92, 93, 94, 95, 96, 97, 98, 99]\n",
      "98\n",
      "99\n",
      "[1, 2, 3, 4, 5, 6, 7, 8, 9, 10, 11, 12, 13, 14, 15, 16, 17, 18, 19, 20, 21, 22, 23, 24, 25, 26, 27, 28, 29, 30, 31, 32, 33, 34, 35, 36, 37, 38, 39, 40, 41, 42, 43, 44, 45, 46, 47, 48, 49, 50, 51, 52, 53, 54, 55, 56, 57, 58, 59, 60, 61, 62, 63, 64, 65, 66, 67, 68, 69, 70, 71, 72, 73, 74, 75, 76, 77, 78, 79, 80, 81, 82, 83, 84, 85, 86, 87, 88, 89, 90, 91, 92, 93, 94, 95, 96, 97, 98]\n",
      "97\n",
      "98\n",
      "[1, 2, 3, 5, 6, 7, 8, 9, 10, 11, 12, 13, 14, 15, 16, 17, 18, 19, 20, 21, 22, 23, 24, 25, 26, 27, 28, 29, 30, 31, 32, 33, 34, 35, 36, 37, 38, 39, 40, 41, 42, 43, 44, 45, 46, 47, 48, 49, 50, 51, 52, 53, 54, 55, 56, 57, 58, 59, 60, 61, 62, 63, 64, 65, 66, 67, 68, 69, 70, 71, 72, 73, 74, 75, 76, 77, 78, 79, 80, 81, 82, 83, 84, 85, 86, 87, 88, 89, 90, 91, 92, 93, 94, 95, 96, 97, 98]\n"
     ]
    }
   ],
   "source": [
    "ll.remove_node(ll.get_head())\n",
    "ll.display()\n",
    "ll.remove_node(ll.get_last())\n",
    "# print(ll.get_last().val)\n",
    "ll.display()\n",
    "ll.remove_node(ll.get_head().next.next.next)\n",
    "ll.display()"
   ]
  },
  {
   "cell_type": "code",
   "execution_count": 77,
   "id": "8b232e19",
   "metadata": {},
   "outputs": [],
   "source": [
    "# Nth item from the last in linkedlist\n",
    "\n",
    "class Node():\n",
    "    def __init__(self,x=None):\n",
    "        self.val=x\n",
    "        self.next=None \n",
    "        \n",
    "class Solution(LinkedList):\n",
    "    def __init__(self):\n",
    "        super().__init__()\n",
    "    \n",
    "    def nth_items_from_last(self,n):\n",
    "        lp=self.head\n",
    "        rp=self.head\n",
    "        \n",
    "        if not 0<=n<=self.length():\n",
    "            raise Exception(' n is greater than linkedlist')\n",
    "            \n",
    "        \n",
    "        for i in range(n-1):            \n",
    "            rp=rp.next\n",
    "            \n",
    "        while rp.next:\n",
    "            lp=lp.next\n",
    "            rp=rp.next\n",
    "            \n",
    "        print(lp.val)   \n",
    "            \n"
   ]
  },
  {
   "cell_type": "code",
   "execution_count": 78,
   "id": "49e77551",
   "metadata": {},
   "outputs": [
    {
     "name": "stdout",
     "output_type": "stream",
     "text": [
      "100\n",
      "89\n"
     ]
    }
   ],
   "source": [
    "            \n",
    "ll=Solution()\n",
    "for i in range (100):\n",
    "    ll.append(i)\n",
    "    \n",
    "print(ll.length())\n",
    "ll.nth_items_from_last(11)"
   ]
  },
  {
   "cell_type": "code",
   "execution_count": 79,
   "id": "cbeadfd8",
   "metadata": {},
   "outputs": [
    {
     "name": "stdout",
     "output_type": "stream",
     "text": [
      "1\n",
      "2\n",
      "3\n",
      "4\n",
      "55\n",
      "6\n",
      "77\n",
      "8\n"
     ]
    },
    {
     "data": {
      "text/plain": [
       "True"
      ]
     },
     "execution_count": 79,
     "metadata": {},
     "output_type": "execute_result"
    }
   ],
   "source": [
    "#Function to search a given number in row-column sorted matrix.\n",
    "def search(matrix, n, m, x): \n",
    "#     i, j = 0, 0                 \n",
    "    for i in range(n):\n",
    "        for j in range(m):\n",
    "            print(matrix[i][j])\n",
    "            #if given number is found, we return true.\n",
    "            if (matrix[i][j] == x): \n",
    "                return True            \n",
    "    #if we reach here, it means given number is not\n",
    "    #present in matrix so we return false.\n",
    "    return False\n",
    "    \n",
    "    \n",
    "search ([[1,2,3],[4,55,6],[77,8,9]],3,3,8)    "
   ]
  },
  {
   "cell_type": "code",
   "execution_count": 80,
   "id": "6036bfbf",
   "metadata": {},
   "outputs": [
    {
     "name": "stdout",
     "output_type": "stream",
     "text": [
      "defaultdict(<class 'int'>, {103: 2, 101: 4, 107: 2, 102: 1, 111: 1, 114: 1, 115: 1})\n",
      "101\n",
      "102\n",
      "103\n",
      "107\n",
      "111\n",
      "114\n",
      "115\n",
      "eeeefggkkors\n"
     ]
    }
   ],
   "source": [
    "## Sort the string in lexicographical order \n",
    "from collections import defaultdict\n",
    "def Sort(arr):\n",
    "    n = len(arr)\n",
    "    freq=defaultdict(int)\n",
    "\n",
    "\n",
    "    for char in arr:\n",
    "        freq[ord(char)]+=1\n",
    "    print(freq)\n",
    "#     print(freq)\n",
    "    arr = \"\"\n",
    "\n",
    "    ordered_keys=sorted(freq.keys())\n",
    "    for k in ordered_keys:\n",
    "        print(k)\n",
    "        \n",
    "        arr += freq[k]*chr(k)\n",
    "    \n",
    "    print(arr)\n",
    "    \n",
    "\n",
    "Sort(\"geekforgeeks\")\n",
    "# Alternate way ----->    \"\".join(sorted(\"\".join(['geekforgeeks'])))\n"
   ]
  },
  {
   "cell_type": "code",
   "execution_count": 81,
   "id": "d5b8f3a8",
   "metadata": {},
   "outputs": [],
   "source": [
    "# Definition for singly-linked list.\n",
    "class ListNode:\n",
    "    def __init__(self, x=None):\n",
    "        self.val = x\n",
    "        self.next = None\n",
    "\n",
    "def removeLoop(head: ListNode) -> bool:\n",
    "    # Initialize ptr1 and ptr2 to head node.\n",
    "    ptr1 = head\n",
    "    ptr2 = head\n",
    "    # Boolean to check if a loop exists in the given Linked List.\n",
    "    flag = False\n",
    "    # Traverse the Linked List.\n",
    "    while ptr2 != None and ptr2.next != None:\n",
    "        # Move ptr1 forward by one node.\n",
    "        ptr1 = ptr1.next\n",
    "        # Move ptr2 forward by two nodes.\n",
    "        ptr2 = ptr2.next.next\n",
    "        # Check if ptr1 and ptr2 meet at some node, then there is a loop in the Linked List and So make flag true and break.        \n",
    "        if ptr1 == ptr2:\n",
    "#             print(ptr1.val)\n",
    "#             print(ptr2.val)\n",
    "            flag = True\n",
    "            break\n",
    "    \n",
    "#     ptr2.next=None\n",
    "    # When there is a loop in the Linked List.\n",
    "    if flag:\n",
    "        # Assign head to ptr1.\n",
    "        ptr1 = head        \n",
    "        # Loop until next of ptr1 and ptr2 are not equal.\n",
    "        while ptr1.next != ptr2.next:\n",
    "            print(ptr1.val)\n",
    "            print(ptr2.val)\n",
    "            ptr1 = ptr1.next\n",
    "            ptr2 = ptr2.next\n",
    "        # Make next of ptr2 i.e last node of Linked List None.\n",
    "        ptr2.next = None\n",
    "    return head\n",
    "\n",
    "\n",
    "head = l0= ListNode(2)\n",
    "head.next = l1 = ListNode(8)\n",
    "l1.next = l2 = ListNode(3)\n",
    "l2.next = l3 = ListNode(5)\n",
    "l3.next = l4 = ListNode(10)\n",
    "l4.next = l3\n",
    "# 2->8->3->5->10--\n",
    "#       ^       |\n",
    "#       |       |\n",
    "#       ---------\n"
   ]
  },
  {
   "cell_type": "code",
   "execution_count": 82,
   "id": "5c471e40",
   "metadata": {},
   "outputs": [
    {
     "name": "stdout",
     "output_type": "stream",
     "text": [
      "2\n",
      "10\n",
      "8\n",
      "5\n",
      "2->8->3->5->10->NULL\n"
     ]
    }
   ],
   "source": [
    "removeLoop(head)\n",
    "\n",
    "while head != None:\n",
    "    print(f'{head.val}->',end=\"\")\n",
    "    head = head.next;\n",
    "print(\"NULL\")"
   ]
  },
  {
   "cell_type": "code",
   "execution_count": 83,
   "id": "08a48604",
   "metadata": {},
   "outputs": [
    {
     "name": "stdout",
     "output_type": "stream",
     "text": [
      "[3, 5, 7, 9, 11, 13]\n",
      "<__main__.Node object at 0x000002DE30031D90>\n",
      "[7, 5, 3, 13, 11, 9]\n"
     ]
    }
   ],
   "source": [
    "##  Reverse linked list for the group k\n",
    "\n",
    "class Node():\n",
    "\n",
    "    def __init__(self,x=None):\n",
    "        self.data=x\n",
    "        self.next=None\n",
    "\n",
    "a=Node(3)\n",
    "b=Node(5)\n",
    "c=Node(7)\n",
    "d=Node(9)\n",
    "e=Node(11)\n",
    "f=Node(13)\n",
    "\n",
    "a.next=b\n",
    "b.next=c\n",
    "c.next=d\n",
    "d.next=e\n",
    "e.next=f\n",
    "\n",
    "def print_list(head):\n",
    "    cur=head\n",
    "    ll=[head.data]\n",
    "    while cur.next:\n",
    "        cur=cur.next\n",
    "        ll.append(cur.data)\n",
    "\n",
    "    return (ll)   \n",
    "\n",
    "def reverse(head, k):\n",
    "    current = head\n",
    "    next = None\n",
    "    prev = None\n",
    "    count = 0\n",
    "  \n",
    "\n",
    "    while (current  and count < k):\n",
    "        # reversing k elements\n",
    "        next = current.next              # storing value of next node\n",
    "        current.next = prev              # reversing link\n",
    "        prev = current                   # updating prev\n",
    "        current = next                   # updating current\n",
    "        count += 1\n",
    "\n",
    "    if next is not None:    # checking if there are more nodes ahead\n",
    "        head.next = reverse(next, k)     # reversing those recursively\n",
    "        \n",
    "    return prev\n",
    "\n",
    "print(print_list(a))\n",
    "print(reverse(a,3))\n",
    "print(print_list(c))"
   ]
  },
  {
   "cell_type": "code",
   "execution_count": 84,
   "id": "6aac57b9",
   "metadata": {},
   "outputs": [
    {
     "name": "stdout",
     "output_type": "stream",
     "text": [
      "max val is 80\n",
      "max val is 160\n",
      "max val is 210\n",
      "max val is 435\n",
      "max val is 595\n",
      "max val is 655\n",
      "(4, 6)\n"
     ]
    }
   ],
   "source": [
    "from collections import defaultdict\n",
    "\n",
    "def stock_buy(A,n):\n",
    "    diff=defaultdict(int)\n",
    "    max_val=0\n",
    "    imax=0\n",
    "    jmax=0\n",
    "\n",
    "    for i in range(n):\n",
    "        for j in range(i+1,n):\n",
    "            if A[i] > A[j]:\n",
    "                pass\n",
    "            elif A[i] < A[j]:\n",
    "                # print(f\"{i}- {A[j]}-{A[i]}\")\n",
    "                if A[j]-A[i]> max_val:\n",
    "                    max_val=A[j]-A[i]\n",
    "                    imax=i\n",
    "                    jmax=j\n",
    "                    print( f\"max val is {max_val}\")\n",
    "                   \n",
    "    return (imax,jmax)\n",
    "\n",
    "    print(\"\")   \n",
    "    \n",
    "print(stock_buy([100,180,260,310,40,535,695,523],8))"
   ]
  },
  {
   "cell_type": "code",
   "execution_count": 85,
   "id": "b9d69331",
   "metadata": {
    "scrolled": true
   },
   "outputs": [
    {
     "name": "stdout",
     "output_type": "stream",
     "text": [
      "rem-3\n",
      "n-705\n",
      "rem is nt 0 n-27\n",
      "rem is nt 0 i-1\n",
      "rem-1\n",
      "n-27\n",
      "rem is nt 0 n-1\n",
      "rem is nt 0 i-2\n",
      "rem-1\n",
      "n-1\n",
      "rem is nt 0 n-0\n",
      "rem is nt 0 i-3\n",
      "\u0000\u0000\u0000\u0000\u0000\u0000\u0000\u0000\u0000\u0000\u0000\u0000\u0000\u0000\u0000\u0000\u0000\u0000\u0000\u0000\u0000\u0000\u0000\u0000\u0000\u0000\u0000\u0000\u0000\u0000\u0000\u0000\u0000\u0000\u0000\u0000\u0000\u0000\u0000\u0000\u0000\u0000\u0000\u0000\u0000\u0000\u0000AAC\n"
     ]
    }
   ],
   "source": [
    "\n",
    "# Python program to find Excel column name from a\n",
    "# given column number\n",
    "\n",
    "MAX = 50\n",
    "\n",
    "# Function to print Excel column name\n",
    "# for a given column number\n",
    "def printString(n):\n",
    "\n",
    "    # To store result (Excel column name)\n",
    "    string = [\"\\0\"] * MAX\n",
    "\n",
    "    # To store current index in str which is result\n",
    "    i = 0\n",
    "\n",
    "    while n > 0:\n",
    "        # Find remainder\n",
    "        rem = n % 26\n",
    "        print(f\"rem-{rem}\")\n",
    "        print(f\"n-{n}\")\n",
    "        # if remainder is 0, then a\n",
    "        # 'Z' must be there in output\n",
    "        if rem == 0:\n",
    "            string[i] = 'Z'\n",
    "            i += 1\n",
    "            n = (n // 26) - 1\n",
    "            print(f\"rem is 0 n-{n}\")\n",
    "            print(f\"rem is 0 i-{i}\")\n",
    "        else:\n",
    "            string[i] = chr((rem - 1) + ord('A'))\n",
    "            i += 1\n",
    "            n = n // 26\n",
    "            print(f\"rem is nt 0 n-{n}\")\n",
    "            print(f\"rem is nt 0 i-{i}\")\n",
    "    string[i] = '\\0'\n",
    "\n",
    "    # Reverse the string and print result\n",
    "    string = string[::-1]\n",
    "    print (\"\".join(string))\n",
    "\n",
    "# Driver program to test the above Function\n",
    "# printString(26)\n",
    "# printString(51)\n",
    "# printString(52)\n",
    "# printString(80)\n",
    "# printString(676)\n",
    "# printString(702)\n",
    "printString(705)"
   ]
  },
  {
   "cell_type": "code",
   "execution_count": 86,
   "id": "aa4bc6ea",
   "metadata": {},
   "outputs": [
    {
     "name": "stdout",
     "output_type": "stream",
     "text": [
      "5\n",
      "The longest repeating non-overlapping substring is:-  India\n"
     ]
    }
   ],
   "source": [
    "# Returns the longest repeating non-overlapping \n",
    "# substring in str \n",
    "def longestRepeatedSubstring(str): \n",
    "  \n",
    "    n = len(str) \n",
    "    dp = [[0 for x in range(n + 1)]     # Initializing dp to 0\n",
    "                for y in range(n + 1)] \n",
    "  \n",
    "    ans = \"\"     # To store resultant substring \n",
    "    ans_len = 0 # To store length of result \n",
    "  \n",
    "    # building table in bottom-up manner \n",
    "    ind = 0\n",
    "    for i in range(1, n + 1): \n",
    "        for j in range(i + 1, n + 1): \n",
    "#             print(f\"{str[i-1]} -{dp[i-1][j-1]} \")\n",
    "            # if the characters at (i-1)th and (j-1)th \n",
    "\t\t\t# position matches and codition for\n",
    "\t\t\t# removing overlapping is satisfied\n",
    "\n",
    "            if (str[i - 1] == str[j - 1] and dp[i - 1][j - 1] < (j - i)): \n",
    "                dp[i][j] = dp[i - 1][j - 1] + 1\n",
    "            \n",
    "#             print(dp[i][j])\n",
    "#             print(ind)\n",
    "            # updating maximum length of the \n",
    "            # substring and updating the finishing \n",
    "            # ind of the suffix \n",
    "            if (dp[i][j] > ans_len): \n",
    "                ans_len = dp[i][j] \n",
    "                ind = max(i, ind) \n",
    "                  \n",
    "            else: \n",
    "                dp[i][j] = 0\n",
    "    print(ans_len)\n",
    "    # If we have non-empty result, then insert  \n",
    "    # all characters from first character to  \n",
    "    # last character of string \n",
    "    if (ans_len > 0): \n",
    "        for i in range(ind - ans_len + 1,ind + 1): \n",
    "            ans = ans + str[i - 1] \n",
    "  \n",
    "    return ans \n",
    "  \n",
    "print(\"The longest repeating non-overlapping substring is:- \",longestRepeatedSubstring(\"ABCIndiavsIndia\")) \n",
    "#Sample Input 1:-\n",
    "#    Enter the input string:- opengenus\n",
    "#Sample Output 1:-\n",
    "#    The longest repeating non-overlapping substring is:- en\n",
    "#Sample Input 2:-\n",
    "#    Enter the input string:- aaaaaa\n",
    "#Sample Output 2:-\n",
    "#    The longest repeating non-overlapping substring is:- aaa"
   ]
  },
  {
   "cell_type": "code",
   "execution_count": 87,
   "id": "74f8298f",
   "metadata": {},
   "outputs": [
    {
     "name": "stdout",
     "output_type": "stream",
     "text": [
      "{'1': 17, '2': 18, 'G': 12, 'E': 14, 'K': 15, 'S': 16, 'F': 7, 'O': 8, 'R': 9}\n",
      "9\n",
      "EKSFOR12G\n",
      "{'1': 15, '2': 16, '3': 17, '4': 6, '5': 4, '6': 14, '7': 13, '8': 9, '9': 10, '0': 11}\n",
      "9\n",
      "534678901\n"
     ]
    }
   ],
   "source": [
    "# Python3 program to find and print longest\n",
    "# substring without repeating characters.\n",
    "\n",
    "# Function to find and print longest\n",
    "# substring without repeating characters.\n",
    "def findLongestSubstring(string):\n",
    "\n",
    "    n = len(string)\n",
    "\n",
    "    # starting point of current substring.\n",
    "    st = 0\n",
    "\n",
    "    # maximum length substring without\n",
    "    # repeating characters.\n",
    "    maxlen = 0\n",
    "\n",
    "    # starting index of maximum\n",
    "    # length substring.\n",
    "    start = 0\n",
    "\n",
    "    # Hash Map to store last occurrence\n",
    "    # of each already visited character.\n",
    "    pos = {}\n",
    "\n",
    "    # Last occurrence of first\n",
    "    # character is index 0\n",
    "    pos[string[0]] = 0\n",
    "    substr_found=0\n",
    "    for i in range(1, n):\n",
    "\n",
    "        # If this character is not present in hash,\n",
    "        # then this is first occurrence of this\n",
    "        # character, store this in hash.\n",
    "        if string[i] not in pos:\n",
    "            pos[string[i]] = i\n",
    "\n",
    "        else:\n",
    "            # If this character is present in hash then\n",
    "            # this character has previous occurrence,\n",
    "            # check if that occurrence is before or after\n",
    "            # starting point of current substring.\n",
    "            if pos[string[i]] >= st:\n",
    "\n",
    "                # find length of current substring and\n",
    "                # update maxlen and start accordingly.\n",
    "                currlen = i - st\n",
    "                if maxlen < currlen:\n",
    "                    maxlen = currlen\n",
    "                    start = st\n",
    "                    substr_found=1\n",
    "\n",
    "                # Next substring will start after the last\n",
    "                # occurrence of current character to avoid\n",
    "                # its repetition.\n",
    "                st = pos[string[i]] + 1\n",
    "            \n",
    "            # Update last occurrence of\n",
    "            # current character.\n",
    "            pos[string[i]] = i\n",
    "            \n",
    "    \n",
    "    # Compare length of last substring with maxlen\n",
    "    # and update maxlen and start accordingly.\n",
    "    if maxlen < i - st:\n",
    "        maxlen = i - st\n",
    "        start = st\n",
    "    \n",
    "    # The required longest substring without\n",
    "    # repeating characters is from string[start]\n",
    "    # to string[start+maxlen-1].\n",
    "    print(pos)\n",
    "    print(maxlen)    \n",
    "    if not substr_found:            \n",
    "        return(string[start:start+maxlen+1])\n",
    "    else:\n",
    "        return(string[start:start+maxlen])\n",
    "        \n",
    "    \n",
    "    \n",
    "\n",
    "string = \"12GEEKSFOR12GEEKS12\"\n",
    "print(findLongestSubstring(string))\n",
    "\n",
    "string = \"123453467890176123\"\n",
    "print(findLongestSubstring(string))"
   ]
  },
  {
   "cell_type": "markdown",
   "id": "e401a1bc",
   "metadata": {},
   "source": [
    "## graphs"
   ]
  },
  {
   "cell_type": "code",
   "execution_count": 88,
   "id": "97c9363b",
   "metadata": {},
   "outputs": [],
   "source": [
    "#graph vertices\n",
    "import collections\n",
    "adj_l=[('A','B'),('A','C'),('B','D'),('B','E'),('B','A'),('C','A'),('E','F'),('C','F')]\n",
    "graph=collections.defaultdict(set)"
   ]
  },
  {
   "cell_type": "code",
   "execution_count": 89,
   "id": "77037583",
   "metadata": {},
   "outputs": [
    {
     "name": "stdout",
     "output_type": "stream",
     "text": [
      "defaultdict(<class 'set'>, {'A': {'B', 'C'}, 'B': {'A', 'E', 'D'}, 'C': {'F', 'A'}, 'D': {'B'}, 'E': {'F', 'B'}, 'F': {'E', 'C'}})\n",
      "A-{'B', 'C'}\n",
      "B-{'A', 'E', 'D'}\n",
      "C-{'F', 'A'}\n",
      "D-{'B'}\n",
      "E-{'F', 'B'}\n",
      "F-{'E', 'C'}\n"
     ]
    }
   ],
   "source": [
    "for i in adj_l:\n",
    "    a=i[0]\n",
    "    b=i[1]\n",
    "    \n",
    "    graph[a].add(b)\n",
    "    graph[b].add(a)\n",
    "    \n",
    "print(graph)    \n",
    "\n",
    "for k,v in graph.items():\n",
    "    print (f'{k}-{v}')"
   ]
  },
  {
   "cell_type": "code",
   "execution_count": 90,
   "id": "be145640",
   "metadata": {},
   "outputs": [
    {
     "data": {
      "text/plain": [
       "[['A', 'C', 'F'], ['A', 'B', 'E', 'F']]"
      ]
     },
     "execution_count": 90,
     "metadata": {},
     "output_type": "execute_result"
    }
   ],
   "source": [
    "def bfs_shortest_path(graph,start,goal):\n",
    "    q=[(start,[start])]\n",
    "    while q:\n",
    "#         print(q)    \n",
    "        vertex,path=q.pop(0)\n",
    "        for step in graph[vertex]-set(path):\n",
    "            if step==goal:\n",
    "                yield path+[step]\n",
    "            \n",
    "            q.append((step,path+[step]))\n",
    "            \n",
    "list(bfs_shortest_path(graph,'A','F')    ) "
   ]
  },
  {
   "cell_type": "code",
   "execution_count": 91,
   "id": "3c1a1317",
   "metadata": {},
   "outputs": [
    {
     "data": {
      "text/plain": [
       "[['A', 'C', 'F'], ['A', 'B', 'E', 'F']]"
      ]
     },
     "execution_count": 91,
     "metadata": {},
     "output_type": "execute_result"
    }
   ],
   "source": [
    "def dfs_shortest_path(graph,start,goal):\n",
    "    stack=[(start,[start])]\n",
    "    while stack:\n",
    "#         print(stack)    \n",
    "        vertex,path=stack.pop()\n",
    "        for step in graph[vertex]-set(path):\n",
    "            if step==goal:\n",
    "                yield path+[step]\n",
    "            \n",
    "            stack.append((step,path+[step]))\n",
    "            \n",
    "list(dfs_shortest_path(graph,'A','F')    ) "
   ]
  },
  {
   "cell_type": "code",
   "execution_count": 92,
   "id": "1eab7ff6",
   "metadata": {},
   "outputs": [],
   "source": [
    "graph2={\n",
    "   'G': set(['C']), \n",
    "   'F': set(['C']), \n",
    "   'E': set(['A', 'B', 'D']), \n",
    "   'A': set(['B', 'E', 'C']), \n",
    "   'B': set(['A', 'D', 'E']), \n",
    "   'D': set(['B', 'E']) ,\n",
    "   'C': set(['A', 'F', 'G'])\n",
    "}"
   ]
  },
  {
   "cell_type": "code",
   "execution_count": 93,
   "id": "fa269b79",
   "metadata": {},
   "outputs": [
    {
     "data": {
      "text/plain": [
       "[['A', 'B', 'D'], ['A', 'E', 'D'], ['A', 'B', 'E', 'D'], ['A', 'E', 'B', 'D']]"
      ]
     },
     "execution_count": 93,
     "metadata": {},
     "output_type": "execute_result"
    }
   ],
   "source": [
    "list(bfs_shortest_path(graph2,'A','D')    )   "
   ]
  },
  {
   "cell_type": "code",
   "execution_count": 94,
   "id": "65955fcf",
   "metadata": {},
   "outputs": [
    {
     "data": {
      "text/plain": [
       "[['A', 'E', 'D'], ['A', 'E', 'B', 'D'], ['A', 'B', 'D'], ['A', 'B', 'E', 'D']]"
      ]
     },
     "execution_count": 94,
     "metadata": {},
     "output_type": "execute_result"
    }
   ],
   "source": [
    "list(dfs_shortest_path(graph2,'A','D')    ) "
   ]
  },
  {
   "cell_type": "code",
   "execution_count": 95,
   "id": "cdd77772",
   "metadata": {},
   "outputs": [
    {
     "name": "stdout",
     "output_type": "stream",
     "text": [
      "[[0, 0, 0, 0], [0, 0, 0, 0], [0, 0, 0, 0]]\n",
      "[[0, 0, 0, 0], [0, 0, 0, 0], [0, 0, 0, 0]]\n",
      "True\n"
     ]
    }
   ],
   "source": [
    "# zero matrix\n",
    "def zero_matrix(r,c):\n",
    "    if r<1 or c<1:\n",
    "        Print(\"number should be 1 or above\")     \n",
    "    m=[]    \n",
    "    while len(m)<r:\n",
    "        m.append([])\n",
    "        while len(m[-1])<c:\n",
    "            m[-1].append(0)\n",
    "                                   \n",
    "#     print(m)        \n",
    "    return(m)\n",
    "    \n",
    "print(zero_matrix(3,4))\n",
    "\n",
    "print(list([0 for m in range(4)] for n in range(3)))\n",
    "\n",
    "if zero_matrix(3,4)==[[0 for m in range(4)] for n in range(3)]:\n",
    "    print (\"True\")\n",
    "\n"
   ]
  },
  {
   "cell_type": "code",
   "execution_count": 96,
   "id": "a90f21b7",
   "metadata": {},
   "outputs": [
    {
     "name": "stdout",
     "output_type": "stream",
     "text": [
      "\n",
      "1 2 \n",
      "3 4 1\n",
      "2\n",
      "3\n",
      "4\n"
     ]
    }
   ],
   "source": [
    "# Print individual value in Matrix\n",
    "\n",
    "for i in [[1,2],[3,4]]:\n",
    "    print(\"\")\n",
    "    for j in i:\n",
    "        print(f\"{j}\",end =\" \")\n",
    "\n",
    "        \n",
    "# Print matrix with array 2d form\n",
    "M= [[1,2],[3,4]]\n",
    " \n",
    "for r in range(len(M)):\n",
    "    for c in range(len(M[-1])):\n",
    "        print(M[r][c])"
   ]
  },
  {
   "cell_type": "code",
   "execution_count": 97,
   "id": "03e553df",
   "metadata": {},
   "outputs": [
    {
     "name": "stdout",
     "output_type": "stream",
     "text": [
      "Row 2\n",
      "col 4\n",
      "43\n",
      "43\n"
     ]
    }
   ],
   "source": [
    "M1=[[1,2,3,4],[3,4,4,5]]\n",
    "\n",
    "print(f\"Row {len(M1)}\")\n",
    "      \n",
    "print(f\"col {len(M1[-1])}\")\n",
    "\n",
    "A=[1,2,3,4]\n",
    "B=[3,4,4,5]\n",
    "\n",
    "dot_product=0\n",
    "for a,b in zip(A,B):\n",
    "    dot_product+=a*b\n",
    "\n",
    "print(dot_product)\n",
    "print(np.dot(A,B))"
   ]
  },
  {
   "cell_type": "code",
   "execution_count": 98,
   "id": "fea0101a",
   "metadata": {},
   "outputs": [
    {
     "name": "stdout",
     "output_type": "stream",
     "text": [
      "[[3, 3], [7, 7]]\n",
      "[[6, 6, 6], [14, 14, 14], [22, 22, 22]]\n"
     ]
    },
    {
     "data": {
      "text/plain": [
       "[[6, 6, 6], [14, 14, 14], [22, 22, 22]]"
      ]
     },
     "execution_count": 98,
     "metadata": {},
     "output_type": "execute_result"
    }
   ],
   "source": [
    "# Matrix multiplication  2d or  dot product\n",
    "\n",
    "M1=[[1,2],[3,4]]\n",
    "M2=[[1,1],[1,1]]\n",
    "\n",
    "M3=[[1,2],[3,4],[5,6]]\n",
    "M4=[[2,2,2],[2,2,2]]\n",
    "\n",
    "\n",
    "def matrix_multiplication_2d(M1,M2):    \n",
    "    out=zero_matrix(len(M1),len(M2[-1]))\n",
    "#     out=[[0 for m in range(len(M1))] for n in range(len(M2[-1]))]\n",
    "    for r in range(len(M1)):\n",
    "        for c in range(len(M2[-1])):\n",
    "            total=0\n",
    "            for k in range(len(M2)):\n",
    "                total+= M1[r][k]* M2[k][c]            \n",
    "            out[r][c]=total\n",
    "    print(out)\n",
    "    return out\n",
    "\n",
    "# out=zero_matrix(2,2)\n",
    "matrix_multiplication_2d(M1,M2)\n",
    "# out=zero_matrix(3,3)\n",
    "matrix_multiplication_2d(M3,M4)"
   ]
  },
  {
   "cell_type": "code",
   "execution_count": 99,
   "id": "207e0073",
   "metadata": {},
   "outputs": [
    {
     "name": "stdout",
     "output_type": "stream",
     "text": [
      "[[3 3]\n",
      " [7 7]]\n"
     ]
    }
   ],
   "source": [
    "M1=[[1,2],[3,4]]\n",
    "M2=[[1,1],[1,1]]\n",
    "\n",
    "import numpy as np\n",
    "print(np.dot(M1,M2))"
   ]
  },
  {
   "cell_type": "code",
   "execution_count": 100,
   "id": "fab3437d",
   "metadata": {},
   "outputs": [
    {
     "name": "stdout",
     "output_type": "stream",
     "text": [
      "[[ 6  6  6]\n",
      " [14 14 14]\n",
      " [22 22 22]]\n"
     ]
    }
   ],
   "source": [
    "# dot product\n",
    "M3=[[1,2],[3,4],[5,6]]\n",
    "M4=[[2,2,2],[2,2,2]]\n",
    "import numpy as np\n",
    "print(np.dot(M3,M4))"
   ]
  },
  {
   "cell_type": "code",
   "execution_count": 108,
   "id": "c67de024",
   "metadata": {},
   "outputs": [
    {
     "name": "stdout",
     "output_type": "stream",
     "text": [
      "Yes\n"
     ]
    }
   ],
   "source": [
    "# Python3 implementation of above approach\n",
    "\n",
    "# Function that return true if\n",
    "# the Bishop can take down the pawn\n",
    "def canTakeDown(bishopX, bishopY, pawnX, pawnY) :\n",
    "\n",
    "\n",
    "    # If pawn is at angle\n",
    "    # 45 or 225 degree from\n",
    "    # bishop's Position\n",
    "    if (pawnX - bishopX == pawnY - bishopY) :\n",
    "        return True\n",
    "    \n",
    "    # If pawn is at angle\n",
    "    # 135 or 315 degree from\n",
    "    # bishop's Position\n",
    "    elif (-pawnX + bishopX == pawnY - bishopY):\n",
    "        return True\n",
    "    \n",
    "    else:\n",
    "        return False\n",
    "\n",
    "\n",
    "# Driver code\n",
    "\n",
    "# Bishop's Position\n",
    "bishopX = 5\n",
    "bishopY = 5\n",
    "\n",
    "# Pawn's Position\n",
    "pawnX = 1\n",
    "pawnY = 1\n",
    "\n",
    "if (canTakeDown(bishopX, bishopY, pawnX, pawnY)) :\n",
    "    print(\"Yes\")\n",
    "else :\n",
    "    print(\"No\")\n"
   ]
  },
  {
   "cell_type": "code",
   "execution_count": 101,
   "id": "c70b4038",
   "metadata": {},
   "outputs": [
    {
     "name": "stdout",
     "output_type": "stream",
     "text": [
      "E-69\n",
      "5-53\n",
      "B-66\n",
      "2-50\n",
      "G-71\n",
      "7-55\n",
      "D-68\n",
      "6-54\n",
      "F-70\n",
      "4-52\n"
     ]
    }
   ],
   "source": [
    "# Bishop Pawn take down / capture\n",
    "# E5 -> B2,G7,D6 and F4\n",
    "for i in ['E','5','B','2','G','7','D','6','F','4']:\n",
    "    print(f\"{i}-{ord(i)}\")\n",
    "        \n",
    "\n",
    "\"\"\"\n",
    "    Given the positions of a white bishop and a black pawn on the standard chess board, determine whether the bishop can capture the pawn in one move.\n",
    "    \n",
    "    Example\n",
    "    \n",
    "    for \"A1\" and \"C3\" output should be true,\n",
    "    for \"H1\" and \"H3\" output should be false,\n",
    "    [input] string cell1\n",
    "    \n",
    "    coordinates of the white bishop\n",
    "    [input] string cell2\n",
    "    \n",
    "    coordinates of the black pawn\n",
    "    [output] boolean\n",
    "\"\"\"\n",
    "\n",
    "def bishopAndPawn(cell1, cell2):\n",
    "    return ord(cell1[0]) + ord(str(cell2[1])) == ord(str(cell1[1])) + ord(cell2[0]) or ord(cell1[0]) + ord(str(cell1[1])) ==  ord(cell2[0]) + ord(str(cell2[1]))"
   ]
  },
  {
   "attachments": {
    "graph_image.png": {
     "image/png": "[encoded data removed]"
    }
   },
   "cell_type": "markdown",
   "id": "556379e2",
   "metadata": {},
   "source": [
    "![graph_image.png=100X100](attachment:graph_image.png)\n",
    "<!-- from IPython.display import Image\n",
    "Image(url=\"C:\\This PC\\aws\\graph_image.png\", width=100) -->"
   ]
  },
  {
   "cell_type": "code",
   "execution_count": 102,
   "id": "464f61af",
   "metadata": {},
   "outputs": [
    {
     "name": "stdout",
     "output_type": "stream",
     "text": [
      "Following is the Breadth-First Search\n",
      "5 3 7 2 4 8 "
     ]
    }
   ],
   "source": [
    "## BFS Method 1 using list\n",
    "\n",
    "graph = {\n",
    "  '5' : ['3','7'],\n",
    "  '3' : ['2', '4'],\n",
    "  '7' : ['8'],\n",
    "  '2' : [],\n",
    "  '4' : ['8'],\n",
    "  '8' : []\n",
    "}\n",
    "\n",
    "visited = [] # List for visited nodes.\n",
    "queue = []     #Initialize a queue\n",
    "\n",
    "def bfs(visited, graph, node): #function for BFS\n",
    "  visited.append(node)\n",
    "  queue.append(node)\n",
    "\n",
    "  while queue:          # Creating loop to visit each node\n",
    "    m = queue.pop(0) \n",
    "    print (m, end = \" \") \n",
    "\n",
    "    for neighbour in graph[m]:\n",
    "      if neighbour not in visited:\n",
    "        visited.append(neighbour)\n",
    "        queue.append(neighbour)\n",
    "\n",
    "# Driver Code\n",
    "print(\"Following is the Breadth-First Search\")\n",
    "bfs(visited, graph, '5')    # function calling"
   ]
  },
  {
   "cell_type": "code",
   "execution_count": 103,
   "id": "0f88398c",
   "metadata": {},
   "outputs": [
    {
     "name": "stdout",
     "output_type": "stream",
     "text": [
      "3 2 4 8 "
     ]
    }
   ],
   "source": [
    "visited = [] # List for visited nodes.\n",
    "queue = []     #Initialize a queue\n",
    "\n",
    "bfs(visited, graph, '3')"
   ]
  },
  {
   "cell_type": "code",
   "execution_count": 104,
   "id": "198dfba6",
   "metadata": {},
   "outputs": [
    {
     "name": "stdout",
     "output_type": "stream",
     "text": [
      "Following is the Depth-First Search\n",
      "5 7 8 3 4 2 "
     ]
    }
   ],
   "source": [
    "## DFS  Method 1 using list\n",
    "\n",
    "graph = {\n",
    "  '5' : ['3','7'],\n",
    "  '3' : ['2', '4'],\n",
    "  '7' : ['8'],\n",
    "  '2' : [],\n",
    "  '4' : ['8'],\n",
    "  '8' : []\n",
    "}\n",
    "\n",
    "visited = [] # List for visited nodes.\n",
    "stack = []     #Initialize a queue\n",
    "\n",
    "def dfs(visited, graph, node): #function for BFS\n",
    "  visited.append(node)\n",
    "  stack.append(node)\n",
    "\n",
    "  while stack:          # Creating loop to visit each node\n",
    "    m = stack.pop() \n",
    "    print (m, end = \" \") \n",
    "\n",
    "    for neighbour in graph[m]:\n",
    "      if neighbour not in visited:\n",
    "        visited.append(neighbour)\n",
    "        stack.append(neighbour)\n",
    "\n",
    "# Driver Code\n",
    "print(\"Following is the Depth-First Search\")\n",
    "dfs(visited, graph, '5')    # function calling"
   ]
  },
  {
   "cell_type": "code",
   "execution_count": 105,
   "id": "ea9d3ddb",
   "metadata": {},
   "outputs": [
    {
     "name": "stdout",
     "output_type": "stream",
     "text": [
      "['3', '2', '4', '8']\n",
      "['5', '3', '7', '2', '4', '8']\n"
     ]
    }
   ],
   "source": [
    "def bfs_jose_portilla(graph, start):\n",
    "    visited, queue = list(), [start]\n",
    "    while queue:\n",
    "        vertex = queue.pop(0)\n",
    "        if vertex not in visited:\n",
    "            visited.append(vertex)\n",
    "            queue.extend(set(graph[vertex]) - set(visited))\n",
    "    return visited\n",
    "\n",
    "print(bfs_jose_portilla(graph,'3'))\n",
    "print(bfs_jose_portilla(graph,'5'))"
   ]
  },
  {
   "cell_type": "code",
   "execution_count": 106,
   "id": "aa44a5af",
   "metadata": {},
   "outputs": [
    {
     "name": "stdout",
     "output_type": "stream",
     "text": [
      "['3', '2', '4', '8']\n",
      "['5', '3', '2', '4', '8', '7']\n"
     ]
    }
   ],
   "source": [
    "def dfs_jose_recursion(graph, start, visited=None):\n",
    "    if visited is None:\n",
    "        visited = list()\n",
    "    visited.append(start)\n",
    "    for nxt in set(graph[start]) - set(visited):\n",
    "        dfs_jose_recursion(graph, nxt, visited)\n",
    "    return visited\n",
    "\n",
    "print(dfs_jose_recursion(graph, '3') )\n",
    "print(dfs_jose_recursion(graph, '5') )"
   ]
  },
  {
   "cell_type": "code",
   "execution_count": 107,
   "id": "5f5da1ea",
   "metadata": {},
   "outputs": [
    {
     "name": "stdout",
     "output_type": "stream",
     "text": [
      "['3', '4', '8', '2']\n",
      "['5', '7', '8', '3', '4', '2']\n"
     ]
    }
   ],
   "source": [
    "def dfs_jose(graph, start):\n",
    "    visited, stack = list(), [start]\n",
    "    while stack:\n",
    "        vertex = stack.pop()\n",
    "        if vertex not in visited:\n",
    "            visited.append(vertex)\n",
    "            stack.extend(set(graph[vertex]) - set(visited))\n",
    "    return visited\n",
    "\n",
    "print(dfs_jose(graph, '3') )\n",
    "print(dfs_jose(graph, '5') )"
   ]
  },
  {
   "cell_type": "code",
   "execution_count": null,
   "id": "602da8de",
   "metadata": {},
   "outputs": [],
   "source": []
  }
 ],
 "metadata": {
  "kernelspec": {
   "display_name": "Python 3",
   "language": "python",
   "name": "python3"
  },
  "language_info": {
   "codemirror_mode": {
    "name": "ipython",
    "version": 3
   },
   "file_extension": ".py",
   "mimetype": "text/x-python",
   "name": "python",
   "nbconvert_exporter": "python",
   "pygments_lexer": "ipython3",
   "version": "3.8.8"
  }
 },
 "nbformat": 4,
 "nbformat_minor": 5
}
